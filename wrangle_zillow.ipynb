{
 "cells": [
  {
   "cell_type": "code",
   "execution_count": 1,
   "id": "352b63f8",
   "metadata": {},
   "outputs": [],
   "source": [
    "import warnings\n",
    "warnings.filterwarnings(\"ignore\")\n",
    "\n",
    "import pandas as pd\n",
    "import matplotlib.pyplot as plt\n",
    "import seaborn as sns\n",
    "import numpy as np\n",
    "import env\n",
    "import acquire\n",
    "import wrangle\n",
    "from sklearn.model_selection import train_test_split\n"
   ]
  },
  {
   "cell_type": "code",
   "execution_count": null,
   "id": "5152d61c",
   "metadata": {},
   "outputs": [],
   "source": []
  },
  {
   "cell_type": "code",
   "execution_count": 2,
   "id": "7dfb4dd1",
   "metadata": {},
   "outputs": [
    {
     "data": {
      "text/html": [
       "<div>\n",
       "<style scoped>\n",
       "    .dataframe tbody tr th:only-of-type {\n",
       "        vertical-align: middle;\n",
       "    }\n",
       "\n",
       "    .dataframe tbody tr th {\n",
       "        vertical-align: top;\n",
       "    }\n",
       "\n",
       "    .dataframe thead th {\n",
       "        text-align: right;\n",
       "    }\n",
       "</style>\n",
       "<table border=\"1\" class=\"dataframe\">\n",
       "  <thead>\n",
       "    <tr style=\"text-align: right;\">\n",
       "      <th></th>\n",
       "      <th>Unnamed: 0</th>\n",
       "      <th>bedroomcnt</th>\n",
       "      <th>bathroomcnt</th>\n",
       "      <th>calculatedfinishedsquarefeet</th>\n",
       "      <th>taxvaluedollarcnt</th>\n",
       "      <th>yearbuilt</th>\n",
       "      <th>taxamount</th>\n",
       "      <th>fips</th>\n",
       "    </tr>\n",
       "  </thead>\n",
       "  <tbody>\n",
       "    <tr>\n",
       "      <th>0</th>\n",
       "      <td>0</td>\n",
       "      <td>4.0</td>\n",
       "      <td>4.0</td>\n",
       "      <td>2954.0</td>\n",
       "      <td>735227.0</td>\n",
       "      <td>1924.0</td>\n",
       "      <td>9057.14</td>\n",
       "      <td>6037.0</td>\n",
       "    </tr>\n",
       "    <tr>\n",
       "      <th>1</th>\n",
       "      <td>1</td>\n",
       "      <td>4.0</td>\n",
       "      <td>2.0</td>\n",
       "      <td>1390.0</td>\n",
       "      <td>429900.0</td>\n",
       "      <td>1962.0</td>\n",
       "      <td>4892.26</td>\n",
       "      <td>6059.0</td>\n",
       "    </tr>\n",
       "    <tr>\n",
       "      <th>2</th>\n",
       "      <td>2</td>\n",
       "      <td>2.0</td>\n",
       "      <td>1.0</td>\n",
       "      <td>823.0</td>\n",
       "      <td>148542.0</td>\n",
       "      <td>1986.0</td>\n",
       "      <td>2666.78</td>\n",
       "      <td>6037.0</td>\n",
       "    </tr>\n",
       "    <tr>\n",
       "      <th>3</th>\n",
       "      <td>3</td>\n",
       "      <td>4.0</td>\n",
       "      <td>3.0</td>\n",
       "      <td>2966.0</td>\n",
       "      <td>654241.0</td>\n",
       "      <td>2001.0</td>\n",
       "      <td>8008.59</td>\n",
       "      <td>6037.0</td>\n",
       "    </tr>\n",
       "    <tr>\n",
       "      <th>4</th>\n",
       "      <td>4</td>\n",
       "      <td>2.0</td>\n",
       "      <td>2.0</td>\n",
       "      <td>1540.0</td>\n",
       "      <td>456340.0</td>\n",
       "      <td>1938.0</td>\n",
       "      <td>5651.44</td>\n",
       "      <td>6037.0</td>\n",
       "    </tr>\n",
       "    <tr>\n",
       "      <th>...</th>\n",
       "      <td>...</td>\n",
       "      <td>...</td>\n",
       "      <td>...</td>\n",
       "      <td>...</td>\n",
       "      <td>...</td>\n",
       "      <td>...</td>\n",
       "      <td>...</td>\n",
       "      <td>...</td>\n",
       "    </tr>\n",
       "    <tr>\n",
       "      <th>52436</th>\n",
       "      <td>52436</td>\n",
       "      <td>4.0</td>\n",
       "      <td>2.5</td>\n",
       "      <td>2504.0</td>\n",
       "      <td>809000.0</td>\n",
       "      <td>1968.0</td>\n",
       "      <td>8967.94</td>\n",
       "      <td>6059.0</td>\n",
       "    </tr>\n",
       "    <tr>\n",
       "      <th>52437</th>\n",
       "      <td>52437</td>\n",
       "      <td>4.0</td>\n",
       "      <td>2.0</td>\n",
       "      <td>1881.0</td>\n",
       "      <td>449245.0</td>\n",
       "      <td>1974.0</td>\n",
       "      <td>5743.88</td>\n",
       "      <td>6037.0</td>\n",
       "    </tr>\n",
       "    <tr>\n",
       "      <th>52438</th>\n",
       "      <td>52438</td>\n",
       "      <td>3.0</td>\n",
       "      <td>3.0</td>\n",
       "      <td>2352.0</td>\n",
       "      <td>870753.0</td>\n",
       "      <td>1907.0</td>\n",
       "      <td>10503.67</td>\n",
       "      <td>6037.0</td>\n",
       "    </tr>\n",
       "    <tr>\n",
       "      <th>52439</th>\n",
       "      <td>52439</td>\n",
       "      <td>2.0</td>\n",
       "      <td>1.0</td>\n",
       "      <td>1468.0</td>\n",
       "      <td>268292.0</td>\n",
       "      <td>1932.0</td>\n",
       "      <td>3284.39</td>\n",
       "      <td>6037.0</td>\n",
       "    </tr>\n",
       "    <tr>\n",
       "      <th>52440</th>\n",
       "      <td>52440</td>\n",
       "      <td>3.0</td>\n",
       "      <td>2.0</td>\n",
       "      <td>1175.0</td>\n",
       "      <td>467759.0</td>\n",
       "      <td>1954.0</td>\n",
       "      <td>5744.27</td>\n",
       "      <td>6037.0</td>\n",
       "    </tr>\n",
       "  </tbody>\n",
       "</table>\n",
       "<p>52441 rows × 8 columns</p>\n",
       "</div>"
      ],
      "text/plain": [
       "       Unnamed: 0  bedroomcnt  bathroomcnt  calculatedfinishedsquarefeet  \\\n",
       "0               0         4.0          4.0                        2954.0   \n",
       "1               1         4.0          2.0                        1390.0   \n",
       "2               2         2.0          1.0                         823.0   \n",
       "3               3         4.0          3.0                        2966.0   \n",
       "4               4         2.0          2.0                        1540.0   \n",
       "...           ...         ...          ...                           ...   \n",
       "52436       52436         4.0          2.5                        2504.0   \n",
       "52437       52437         4.0          2.0                        1881.0   \n",
       "52438       52438         3.0          3.0                        2352.0   \n",
       "52439       52439         2.0          1.0                        1468.0   \n",
       "52440       52440         3.0          2.0                        1175.0   \n",
       "\n",
       "       taxvaluedollarcnt  yearbuilt  taxamount    fips  \n",
       "0               735227.0     1924.0    9057.14  6037.0  \n",
       "1               429900.0     1962.0    4892.26  6059.0  \n",
       "2               148542.0     1986.0    2666.78  6037.0  \n",
       "3               654241.0     2001.0    8008.59  6037.0  \n",
       "4               456340.0     1938.0    5651.44  6037.0  \n",
       "...                  ...        ...        ...     ...  \n",
       "52436           809000.0     1968.0    8967.94  6059.0  \n",
       "52437           449245.0     1974.0    5743.88  6037.0  \n",
       "52438           870753.0     1907.0   10503.67  6037.0  \n",
       "52439           268292.0     1932.0    3284.39  6037.0  \n",
       "52440           467759.0     1954.0    5744.27  6037.0  \n",
       "\n",
       "[52441 rows x 8 columns]"
      ]
     },
     "execution_count": 2,
     "metadata": {},
     "output_type": "execute_result"
    }
   ],
   "source": [
    "df = pd.read_csv(\"zillow.csv\")\n",
    "df"
   ]
  },
  {
   "cell_type": "code",
   "execution_count": 3,
   "id": "6edf9d67",
   "metadata": {
    "scrolled": true
   },
   "outputs": [
    {
     "name": "stdout",
     "output_type": "stream",
     "text": [
      "<class 'pandas.core.frame.DataFrame'>\n",
      "RangeIndex: 52441 entries, 0 to 52440\n",
      "Data columns (total 8 columns):\n",
      " #   Column                        Non-Null Count  Dtype  \n",
      "---  ------                        --------------  -----  \n",
      " 0   Unnamed: 0                    52441 non-null  int64  \n",
      " 1   bedroomcnt                    52441 non-null  float64\n",
      " 2   bathroomcnt                   52441 non-null  float64\n",
      " 3   calculatedfinishedsquarefeet  52359 non-null  float64\n",
      " 4   taxvaluedollarcnt             52440 non-null  float64\n",
      " 5   yearbuilt                     52325 non-null  float64\n",
      " 6   taxamount                     52437 non-null  float64\n",
      " 7   fips                          52441 non-null  float64\n",
      "dtypes: float64(7), int64(1)\n",
      "memory usage: 3.2 MB\n"
     ]
    }
   ],
   "source": [
    "\n",
    "df.info()\n"
   ]
  },
  {
   "cell_type": "code",
   "execution_count": 4,
   "id": "b9e63f77",
   "metadata": {
    "scrolled": true
   },
   "outputs": [
    {
     "data": {
      "text/html": [
       "<div>\n",
       "<style scoped>\n",
       "    .dataframe tbody tr th:only-of-type {\n",
       "        vertical-align: middle;\n",
       "    }\n",
       "\n",
       "    .dataframe tbody tr th {\n",
       "        vertical-align: top;\n",
       "    }\n",
       "\n",
       "    .dataframe thead th {\n",
       "        text-align: right;\n",
       "    }\n",
       "</style>\n",
       "<table border=\"1\" class=\"dataframe\">\n",
       "  <thead>\n",
       "    <tr style=\"text-align: right;\">\n",
       "      <th></th>\n",
       "      <th>Unnamed: 0</th>\n",
       "      <th>bedroomcnt</th>\n",
       "      <th>bathroomcnt</th>\n",
       "      <th>calculatedfinishedsquarefeet</th>\n",
       "      <th>taxvaluedollarcnt</th>\n",
       "      <th>yearbuilt</th>\n",
       "      <th>taxamount</th>\n",
       "      <th>fips</th>\n",
       "    </tr>\n",
       "  </thead>\n",
       "  <tbody>\n",
       "    <tr>\n",
       "      <th>0</th>\n",
       "      <td>0</td>\n",
       "      <td>4.0</td>\n",
       "      <td>4.0</td>\n",
       "      <td>2954.0</td>\n",
       "      <td>735227.0</td>\n",
       "      <td>1924.0</td>\n",
       "      <td>9057.14</td>\n",
       "      <td>6037.0</td>\n",
       "    </tr>\n",
       "    <tr>\n",
       "      <th>1</th>\n",
       "      <td>1</td>\n",
       "      <td>4.0</td>\n",
       "      <td>2.0</td>\n",
       "      <td>1390.0</td>\n",
       "      <td>429900.0</td>\n",
       "      <td>1962.0</td>\n",
       "      <td>4892.26</td>\n",
       "      <td>6059.0</td>\n",
       "    </tr>\n",
       "    <tr>\n",
       "      <th>2</th>\n",
       "      <td>2</td>\n",
       "      <td>2.0</td>\n",
       "      <td>1.0</td>\n",
       "      <td>823.0</td>\n",
       "      <td>148542.0</td>\n",
       "      <td>1986.0</td>\n",
       "      <td>2666.78</td>\n",
       "      <td>6037.0</td>\n",
       "    </tr>\n",
       "    <tr>\n",
       "      <th>3</th>\n",
       "      <td>3</td>\n",
       "      <td>4.0</td>\n",
       "      <td>3.0</td>\n",
       "      <td>2966.0</td>\n",
       "      <td>654241.0</td>\n",
       "      <td>2001.0</td>\n",
       "      <td>8008.59</td>\n",
       "      <td>6037.0</td>\n",
       "    </tr>\n",
       "    <tr>\n",
       "      <th>4</th>\n",
       "      <td>4</td>\n",
       "      <td>2.0</td>\n",
       "      <td>2.0</td>\n",
       "      <td>1540.0</td>\n",
       "      <td>456340.0</td>\n",
       "      <td>1938.0</td>\n",
       "      <td>5651.44</td>\n",
       "      <td>6037.0</td>\n",
       "    </tr>\n",
       "  </tbody>\n",
       "</table>\n",
       "</div>"
      ],
      "text/plain": [
       "   Unnamed: 0  bedroomcnt  bathroomcnt  calculatedfinishedsquarefeet  \\\n",
       "0           0         4.0          4.0                        2954.0   \n",
       "1           1         4.0          2.0                        1390.0   \n",
       "2           2         2.0          1.0                         823.0   \n",
       "3           3         4.0          3.0                        2966.0   \n",
       "4           4         2.0          2.0                        1540.0   \n",
       "\n",
       "   taxvaluedollarcnt  yearbuilt  taxamount    fips  \n",
       "0           735227.0     1924.0    9057.14  6037.0  \n",
       "1           429900.0     1962.0    4892.26  6059.0  \n",
       "2           148542.0     1986.0    2666.78  6037.0  \n",
       "3           654241.0     2001.0    8008.59  6037.0  \n",
       "4           456340.0     1938.0    5651.44  6037.0  "
      ]
     },
     "execution_count": 4,
     "metadata": {},
     "output_type": "execute_result"
    }
   ],
   "source": [
    "df.head()\n"
   ]
  },
  {
   "cell_type": "code",
   "execution_count": 5,
   "id": "525485a9",
   "metadata": {},
   "outputs": [],
   "source": [
    "df['fips'] = df['fips'].astype(str).apply(lambda x: x.replace('.0',''))\n"
   ]
  },
  {
   "cell_type": "code",
   "execution_count": 6,
   "id": "34262a5b",
   "metadata": {
    "scrolled": false
   },
   "outputs": [
    {
     "data": {
      "text/html": [
       "<div>\n",
       "<style scoped>\n",
       "    .dataframe tbody tr th:only-of-type {\n",
       "        vertical-align: middle;\n",
       "    }\n",
       "\n",
       "    .dataframe tbody tr th {\n",
       "        vertical-align: top;\n",
       "    }\n",
       "\n",
       "    .dataframe thead th {\n",
       "        text-align: right;\n",
       "    }\n",
       "</style>\n",
       "<table border=\"1\" class=\"dataframe\">\n",
       "  <thead>\n",
       "    <tr style=\"text-align: right;\">\n",
       "      <th></th>\n",
       "      <th>count</th>\n",
       "      <th>mean</th>\n",
       "      <th>std</th>\n",
       "      <th>min</th>\n",
       "      <th>25%</th>\n",
       "      <th>50%</th>\n",
       "      <th>75%</th>\n",
       "      <th>max</th>\n",
       "    </tr>\n",
       "  </thead>\n",
       "  <tbody>\n",
       "    <tr>\n",
       "      <th>Unnamed: 0</th>\n",
       "      <td>52441.0</td>\n",
       "      <td>26220.000000</td>\n",
       "      <td>15138.557070</td>\n",
       "      <td>0.00</td>\n",
       "      <td>13110.00</td>\n",
       "      <td>26220.00</td>\n",
       "      <td>39330.00</td>\n",
       "      <td>52440.0</td>\n",
       "    </tr>\n",
       "    <tr>\n",
       "      <th>bedroomcnt</th>\n",
       "      <td>52441.0</td>\n",
       "      <td>3.300681</td>\n",
       "      <td>0.949094</td>\n",
       "      <td>0.00</td>\n",
       "      <td>3.00</td>\n",
       "      <td>3.00</td>\n",
       "      <td>4.00</td>\n",
       "      <td>14.0</td>\n",
       "    </tr>\n",
       "    <tr>\n",
       "      <th>bathroomcnt</th>\n",
       "      <td>52441.0</td>\n",
       "      <td>2.299403</td>\n",
       "      <td>1.022772</td>\n",
       "      <td>0.00</td>\n",
       "      <td>2.00</td>\n",
       "      <td>2.00</td>\n",
       "      <td>3.00</td>\n",
       "      <td>18.0</td>\n",
       "    </tr>\n",
       "    <tr>\n",
       "      <th>calculatedfinishedsquarefeet</th>\n",
       "      <td>52359.0</td>\n",
       "      <td>1922.890754</td>\n",
       "      <td>1004.365838</td>\n",
       "      <td>128.00</td>\n",
       "      <td>1268.00</td>\n",
       "      <td>1659.00</td>\n",
       "      <td>2306.00</td>\n",
       "      <td>21929.0</td>\n",
       "    </tr>\n",
       "    <tr>\n",
       "      <th>taxvaluedollarcnt</th>\n",
       "      <td>52440.0</td>\n",
       "      <td>529688.163921</td>\n",
       "      <td>751894.553363</td>\n",
       "      <td>1000.00</td>\n",
       "      <td>193747.50</td>\n",
       "      <td>373612.00</td>\n",
       "      <td>619301.25</td>\n",
       "      <td>49061236.0</td>\n",
       "    </tr>\n",
       "    <tr>\n",
       "      <th>yearbuilt</th>\n",
       "      <td>52325.0</td>\n",
       "      <td>1963.393884</td>\n",
       "      <td>23.133571</td>\n",
       "      <td>1878.00</td>\n",
       "      <td>1950.00</td>\n",
       "      <td>1961.00</td>\n",
       "      <td>1979.00</td>\n",
       "      <td>2016.0</td>\n",
       "    </tr>\n",
       "    <tr>\n",
       "      <th>taxamount</th>\n",
       "      <td>52437.0</td>\n",
       "      <td>6453.511209</td>\n",
       "      <td>8755.568452</td>\n",
       "      <td>49.18</td>\n",
       "      <td>2656.22</td>\n",
       "      <td>4647.74</td>\n",
       "      <td>7377.50</td>\n",
       "      <td>586639.3</td>\n",
       "    </tr>\n",
       "  </tbody>\n",
       "</table>\n",
       "</div>"
      ],
      "text/plain": [
       "                                count           mean            std      min  \\\n",
       "Unnamed: 0                    52441.0   26220.000000   15138.557070     0.00   \n",
       "bedroomcnt                    52441.0       3.300681       0.949094     0.00   \n",
       "bathroomcnt                   52441.0       2.299403       1.022772     0.00   \n",
       "calculatedfinishedsquarefeet  52359.0    1922.890754    1004.365838   128.00   \n",
       "taxvaluedollarcnt             52440.0  529688.163921  751894.553363  1000.00   \n",
       "yearbuilt                     52325.0    1963.393884      23.133571  1878.00   \n",
       "taxamount                     52437.0    6453.511209    8755.568452    49.18   \n",
       "\n",
       "                                    25%        50%        75%         max  \n",
       "Unnamed: 0                     13110.00   26220.00   39330.00     52440.0  \n",
       "bedroomcnt                         3.00       3.00       4.00        14.0  \n",
       "bathroomcnt                        2.00       2.00       3.00        18.0  \n",
       "calculatedfinishedsquarefeet    1268.00    1659.00    2306.00     21929.0  \n",
       "taxvaluedollarcnt             193747.50  373612.00  619301.25  49061236.0  \n",
       "yearbuilt                       1950.00    1961.00    1979.00      2016.0  \n",
       "taxamount                       2656.22    4647.74    7377.50    586639.3  "
      ]
     },
     "execution_count": 6,
     "metadata": {},
     "output_type": "execute_result"
    }
   ],
   "source": [
    "df.describe().T"
   ]
  },
  {
   "cell_type": "code",
   "execution_count": 7,
   "id": "138d5356",
   "metadata": {},
   "outputs": [
    {
     "data": {
      "text/plain": [
       "Unnamed: 0                      0.000000\n",
       "bedroomcnt                      0.000000\n",
       "bathroomcnt                     0.000000\n",
       "calculatedfinishedsquarefeet    0.156366\n",
       "taxvaluedollarcnt               0.001907\n",
       "yearbuilt                       0.221201\n",
       "taxamount                       0.007628\n",
       "fips                            0.000000\n",
       "dtype: float64"
      ]
     },
     "execution_count": 7,
     "metadata": {},
     "output_type": "execute_result"
    }
   ],
   "source": [
    "df.isnull().sum()/len(df) * 100\n"
   ]
  },
  {
   "cell_type": "code",
   "execution_count": 8,
   "id": "35aef2ae",
   "metadata": {},
   "outputs": [
    {
     "name": "stdout",
     "output_type": "stream",
     "text": [
      "<class 'pandas.core.frame.DataFrame'>\n",
      "Int64Index: 52315 entries, 0 to 52440\n",
      "Data columns (total 8 columns):\n",
      " #   Column                        Non-Null Count  Dtype  \n",
      "---  ------                        --------------  -----  \n",
      " 0   Unnamed: 0                    52315 non-null  int64  \n",
      " 1   bedroomcnt                    52315 non-null  float64\n",
      " 2   bathroomcnt                   52315 non-null  float64\n",
      " 3   calculatedfinishedsquarefeet  52315 non-null  float64\n",
      " 4   taxvaluedollarcnt             52315 non-null  float64\n",
      " 5   yearbuilt                     52315 non-null  float64\n",
      " 6   taxamount                     52315 non-null  float64\n",
      " 7   fips                          52315 non-null  object \n",
      "dtypes: float64(6), int64(1), object(1)\n",
      "memory usage: 3.6+ MB\n"
     ]
    }
   ],
   "source": [
    "# dropping nulls  \n",
    "df.dropna(axis=0, inplace=True)\n",
    "df.info()"
   ]
  },
  {
   "cell_type": "code",
   "execution_count": null,
   "id": "67aa5b81",
   "metadata": {},
   "outputs": [],
   "source": []
  },
  {
   "cell_type": "code",
   "execution_count": null,
   "id": "73dd91b9",
   "metadata": {},
   "outputs": [],
   "source": []
  },
  {
   "cell_type": "code",
   "execution_count": 9,
   "id": "29be590a",
   "metadata": {},
   "outputs": [
    {
     "name": "stdout",
     "output_type": "stream",
     "text": [
      "Unnamed: 0\n",
      "0        1\n",
      "34966    1\n",
      "34956    1\n",
      "34957    1\n",
      "34958    1\n",
      "        ..\n",
      "17482    1\n",
      "17483    1\n",
      "17484    1\n",
      "17485    1\n",
      "52440    1\n",
      "Name: Unnamed: 0, Length: 52315, dtype: int64\n",
      "-----------------\n",
      "bedroomcnt\n",
      "3.0     23346\n",
      "4.0     15226\n",
      "2.0      8333\n",
      "5.0      3970\n",
      "6.0       633\n",
      "1.0       605\n",
      "7.0       106\n",
      "0.0        57\n",
      "8.0        24\n",
      "9.0         8\n",
      "12.0        3\n",
      "10.0        2\n",
      "14.0        1\n",
      "11.0        1\n",
      "Name: bedroomcnt, dtype: int64\n",
      "-----------------\n",
      "bathroomcnt\n",
      "2.0     21887\n",
      "3.0     10664\n",
      "1.0      9552\n",
      "2.5      3931\n",
      "4.0      2227\n",
      "3.5       913\n",
      "1.5       840\n",
      "5.0       803\n",
      "4.5       682\n",
      "6.0       322\n",
      "5.5       224\n",
      "7.0        88\n",
      "8.0        53\n",
      "6.5        47\n",
      "0.0        41\n",
      "7.5        16\n",
      "9.0        13\n",
      "10.0        5\n",
      "11.0        3\n",
      "8.5         2\n",
      "18.0        1\n",
      "13.0        1\n",
      "Name: bathroomcnt, dtype: int64\n",
      "-----------------\n",
      "calculatedfinishedsquarefeet\n",
      "1120.0    128\n",
      "1200.0    119\n",
      "1080.0    102\n",
      "936.0      86\n",
      "1040.0     86\n",
      "         ... \n",
      "3905.0      1\n",
      "7311.0      1\n",
      "4917.0      1\n",
      "4828.0      1\n",
      "588.0       1\n",
      "Name: calculatedfinishedsquarefeet, Length: 4720, dtype: int64\n",
      "-----------------\n",
      "taxvaluedollarcnt\n",
      "455000.0    34\n",
      "600000.0    30\n",
      "500000.0    24\n",
      "550000.0    24\n",
      "450000.0    24\n",
      "            ..\n",
      "76779.0      1\n",
      "73072.0      1\n",
      "224941.0     1\n",
      "384720.0     1\n",
      "467759.0     1\n",
      "Name: taxvaluedollarcnt, Length: 38846, dtype: int64\n",
      "-----------------\n",
      "yearbuilt\n",
      "1955.0    1898\n",
      "1950.0    1608\n",
      "1954.0    1517\n",
      "1953.0    1484\n",
      "1956.0    1387\n",
      "          ... \n",
      "1892.0       1\n",
      "1878.0       1\n",
      "1894.0       1\n",
      "1882.0       1\n",
      "1880.0       1\n",
      "Name: yearbuilt, Length: 133, dtype: int64\n",
      "-----------------\n",
      "taxamount\n",
      "345.72      4\n",
      "5387.26     3\n",
      "5613.50     3\n",
      "5220.54     3\n",
      "3326.62     3\n",
      "           ..\n",
      "5584.62     1\n",
      "14007.72    1\n",
      "954.50      1\n",
      "7328.12     1\n",
      "5744.27     1\n",
      "Name: taxamount, Length: 50722, dtype: int64\n",
      "-----------------\n",
      "fips\n",
      "6037    33875\n",
      "6059    14082\n",
      "6111     4358\n",
      "Name: fips, dtype: int64\n",
      "-----------------\n"
     ]
    }
   ],
   "source": [
    "for column in df.columns:\n",
    "    print(column)\n",
    "    print(df[column].value_counts())\n",
    "    print(\"-----------------\")\n",
    "    "
   ]
  },
  {
   "cell_type": "code",
   "execution_count": 10,
   "id": "05f506cf",
   "metadata": {},
   "outputs": [
    {
     "data": {
      "text/html": [
       "<div>\n",
       "<style scoped>\n",
       "    .dataframe tbody tr th:only-of-type {\n",
       "        vertical-align: middle;\n",
       "    }\n",
       "\n",
       "    .dataframe tbody tr th {\n",
       "        vertical-align: top;\n",
       "    }\n",
       "\n",
       "    .dataframe thead th {\n",
       "        text-align: right;\n",
       "    }\n",
       "</style>\n",
       "<table border=\"1\" class=\"dataframe\">\n",
       "  <thead>\n",
       "    <tr style=\"text-align: right;\">\n",
       "      <th></th>\n",
       "      <th>count</th>\n",
       "      <th>mean</th>\n",
       "      <th>std</th>\n",
       "      <th>min</th>\n",
       "      <th>25%</th>\n",
       "      <th>50%</th>\n",
       "      <th>75%</th>\n",
       "      <th>max</th>\n",
       "    </tr>\n",
       "  </thead>\n",
       "  <tbody>\n",
       "    <tr>\n",
       "      <th>Unnamed: 0</th>\n",
       "      <td>52315.0</td>\n",
       "      <td>26220.819574</td>\n",
       "      <td>15140.096406</td>\n",
       "      <td>0.00</td>\n",
       "      <td>13113.500</td>\n",
       "      <td>26218.00</td>\n",
       "      <td>39335.50</td>\n",
       "      <td>52440.0</td>\n",
       "    </tr>\n",
       "    <tr>\n",
       "      <th>bedroomcnt</th>\n",
       "      <td>52315.0</td>\n",
       "      <td>3.305897</td>\n",
       "      <td>0.940601</td>\n",
       "      <td>0.00</td>\n",
       "      <td>3.000</td>\n",
       "      <td>3.00</td>\n",
       "      <td>4.00</td>\n",
       "      <td>14.0</td>\n",
       "    </tr>\n",
       "    <tr>\n",
       "      <th>bathroomcnt</th>\n",
       "      <td>52315.0</td>\n",
       "      <td>2.302791</td>\n",
       "      <td>1.019080</td>\n",
       "      <td>0.00</td>\n",
       "      <td>2.000</td>\n",
       "      <td>2.00</td>\n",
       "      <td>3.00</td>\n",
       "      <td>18.0</td>\n",
       "    </tr>\n",
       "    <tr>\n",
       "      <th>calculatedfinishedsquarefeet</th>\n",
       "      <td>52315.0</td>\n",
       "      <td>1922.553914</td>\n",
       "      <td>1003.629061</td>\n",
       "      <td>128.00</td>\n",
       "      <td>1268.000</td>\n",
       "      <td>1658.00</td>\n",
       "      <td>2305.00</td>\n",
       "      <td>21929.0</td>\n",
       "    </tr>\n",
       "    <tr>\n",
       "      <th>taxvaluedollarcnt</th>\n",
       "      <td>52315.0</td>\n",
       "      <td>528044.818809</td>\n",
       "      <td>748457.587363</td>\n",
       "      <td>1000.00</td>\n",
       "      <td>193701.000</td>\n",
       "      <td>373374.00</td>\n",
       "      <td>618617.00</td>\n",
       "      <td>49061236.0</td>\n",
       "    </tr>\n",
       "    <tr>\n",
       "      <th>yearbuilt</th>\n",
       "      <td>52315.0</td>\n",
       "      <td>1963.395699</td>\n",
       "      <td>23.133908</td>\n",
       "      <td>1878.00</td>\n",
       "      <td>1950.000</td>\n",
       "      <td>1961.00</td>\n",
       "      <td>1979.00</td>\n",
       "      <td>2016.0</td>\n",
       "    </tr>\n",
       "    <tr>\n",
       "      <th>taxamount</th>\n",
       "      <td>52315.0</td>\n",
       "      <td>6434.748320</td>\n",
       "      <td>8709.643614</td>\n",
       "      <td>49.18</td>\n",
       "      <td>2656.185</td>\n",
       "      <td>4645.42</td>\n",
       "      <td>7371.64</td>\n",
       "      <td>586639.3</td>\n",
       "    </tr>\n",
       "  </tbody>\n",
       "</table>\n",
       "</div>"
      ],
      "text/plain": [
       "                                count           mean            std      min  \\\n",
       "Unnamed: 0                    52315.0   26220.819574   15140.096406     0.00   \n",
       "bedroomcnt                    52315.0       3.305897       0.940601     0.00   \n",
       "bathroomcnt                   52315.0       2.302791       1.019080     0.00   \n",
       "calculatedfinishedsquarefeet  52315.0    1922.553914    1003.629061   128.00   \n",
       "taxvaluedollarcnt             52315.0  528044.818809  748457.587363  1000.00   \n",
       "yearbuilt                     52315.0    1963.395699      23.133908  1878.00   \n",
       "taxamount                     52315.0    6434.748320    8709.643614    49.18   \n",
       "\n",
       "                                     25%        50%        75%         max  \n",
       "Unnamed: 0                     13113.500   26218.00   39335.50     52440.0  \n",
       "bedroomcnt                         3.000       3.00       4.00        14.0  \n",
       "bathroomcnt                        2.000       2.00       3.00        18.0  \n",
       "calculatedfinishedsquarefeet    1268.000    1658.00    2305.00     21929.0  \n",
       "taxvaluedollarcnt             193701.000  373374.00  618617.00  49061236.0  \n",
       "yearbuilt                       1950.000    1961.00    1979.00      2016.0  \n",
       "taxamount                       2656.185    4645.42    7371.64    586639.3  "
      ]
     },
     "execution_count": 10,
     "metadata": {},
     "output_type": "execute_result"
    }
   ],
   "source": [
    "df.describe().T"
   ]
  },
  {
   "cell_type": "code",
   "execution_count": null,
   "id": "5781edd8",
   "metadata": {},
   "outputs": [],
   "source": []
  },
  {
   "cell_type": "code",
   "execution_count": null,
   "id": "cdf37c43",
   "metadata": {},
   "outputs": [],
   "source": []
  },
  {
   "cell_type": "code",
   "execution_count": null,
   "id": "d29bf600",
   "metadata": {},
   "outputs": [],
   "source": []
  },
  {
   "cell_type": "code",
   "execution_count": 11,
   "id": "faf9e38b",
   "metadata": {},
   "outputs": [
    {
     "name": "stdout",
     "output_type": "stream",
     "text": [
      "Unnamed: 0\n"
     ]
    },
    {
     "data": {
      "image/png": "[encoded data removed]",
      "text/plain": [
       "<Figure size 432x288 with 1 Axes>"
      ]
     },
     "metadata": {
      "needs_background": "light"
     },
     "output_type": "display_data"
    },
    {
     "name": "stdout",
     "output_type": "stream",
     "text": [
      "bedroomcnt\n"
     ]
    },
    {
     "data": {
      "image/png": "[encoded data removed]",
      "text/plain": [
       "<Figure size 432x288 with 1 Axes>"
      ]
     },
     "metadata": {
      "needs_background": "light"
     },
     "output_type": "display_data"
    },
    {
     "name": "stdout",
     "output_type": "stream",
     "text": [
      "bathroomcnt\n"
     ]
    },
    {
     "data": {
      "image/png": "[encoded data removed]",
      "text/plain": [
       "<Figure size 432x288 with 1 Axes>"
      ]
     },
     "metadata": {
      "needs_background": "light"
     },
     "output_type": "display_data"
    },
    {
     "name": "stdout",
     "output_type": "stream",
     "text": [
      "calculatedfinishedsquarefeet\n"
     ]
    },
    {
     "data": {
      "image/png": "[encoded data removed]",
      "text/plain": [
       "<Figure size 432x288 with 1 Axes>"
      ]
     },
     "metadata": {
      "needs_background": "light"
     },
     "output_type": "display_data"
    },
    {
     "name": "stdout",
     "output_type": "stream",
     "text": [
      "taxvaluedollarcnt\n"
     ]
    },
    {
     "data": {
      "image/png": "[encoded data removed]",
      "text/plain": [
       "<Figure size 432x288 with 1 Axes>"
      ]
     },
     "metadata": {
      "needs_background": "light"
     },
     "output_type": "display_data"
    },
    {
     "name": "stdout",
     "output_type": "stream",
     "text": [
      "yearbuilt\n"
     ]
    },
    {
     "data": {
      "image/png": "[encoded data removed]",
      "text/plain": [
       "<Figure size 432x288 with 1 Axes>"
      ]
     },
     "metadata": {
      "needs_background": "light"
     },
     "output_type": "display_data"
    },
    {
     "name": "stdout",
     "output_type": "stream",
     "text": [
      "taxamount\n"
     ]
    },
    {
     "data": {
      "image/png": "[encoded data removed]",
      "text/plain": [
       "<Figure size 432x288 with 1 Axes>"
      ]
     },
     "metadata": {
      "needs_background": "light"
     },
     "output_type": "display_data"
    },
    {
     "name": "stdout",
     "output_type": "stream",
     "text": [
      "fips\n"
     ]
    },
    {
     "data": {
      "image/png": "[encoded data removed]",
      "text/plain": [
       "<Figure size 432x288 with 1 Axes>"
      ]
     },
     "metadata": {
      "needs_background": "light"
     },
     "output_type": "display_data"
    }
   ],
   "source": [
    "for col in df.columns:\n",
    "    print(col)\n",
    "    plt.title(col)\n",
    "    df[col].hist()\n",
    "    plt.show()"
   ]
  },
  {
   "cell_type": "code",
   "execution_count": null,
   "id": "1b42518c",
   "metadata": {},
   "outputs": [],
   "source": []
  },
  {
   "cell_type": "code",
   "execution_count": 12,
   "id": "4ace269d",
   "metadata": {},
   "outputs": [
    {
     "data": {
      "text/plain": [
       "528044.818809137"
      ]
     },
     "execution_count": 12,
     "metadata": {},
     "output_type": "execute_result"
    }
   ],
   "source": [
    "# reasonably sizing up the houses\n",
    "df[df.calculatedfinishedsquarefeet <= 25_000].taxvaluedollarcnt.mean()\n"
   ]
  },
  {
   "cell_type": "code",
   "execution_count": 13,
   "id": "32e69f3a",
   "metadata": {},
   "outputs": [
    {
     "data": {
      "text/plain": [
       "1.0"
      ]
     },
     "execution_count": 13,
     "metadata": {},
     "output_type": "execute_result"
    }
   ],
   "source": [
    "df[df.calculatedfinishedsquarefeet <= 25_000].shape[0]/df.shape[0]"
   ]
  },
  {
   "cell_type": "code",
   "execution_count": 14,
   "id": "c38ca46a",
   "metadata": {},
   "outputs": [
    {
     "data": {
      "text/html": [
       "<div>\n",
       "<style scoped>\n",
       "    .dataframe tbody tr th:only-of-type {\n",
       "        vertical-align: middle;\n",
       "    }\n",
       "\n",
       "    .dataframe tbody tr th {\n",
       "        vertical-align: top;\n",
       "    }\n",
       "\n",
       "    .dataframe thead th {\n",
       "        text-align: right;\n",
       "    }\n",
       "</style>\n",
       "<table border=\"1\" class=\"dataframe\">\n",
       "  <thead>\n",
       "    <tr style=\"text-align: right;\">\n",
       "      <th></th>\n",
       "      <th>count</th>\n",
       "      <th>mean</th>\n",
       "      <th>std</th>\n",
       "      <th>min</th>\n",
       "      <th>25%</th>\n",
       "      <th>50%</th>\n",
       "      <th>75%</th>\n",
       "      <th>max</th>\n",
       "    </tr>\n",
       "  </thead>\n",
       "  <tbody>\n",
       "    <tr>\n",
       "      <th>Unnamed: 0</th>\n",
       "      <td>52315.0</td>\n",
       "      <td>26220.819574</td>\n",
       "      <td>15140.096406</td>\n",
       "      <td>0.00</td>\n",
       "      <td>13113.500</td>\n",
       "      <td>26218.00</td>\n",
       "      <td>39335.50</td>\n",
       "      <td>52440.0</td>\n",
       "    </tr>\n",
       "    <tr>\n",
       "      <th>bedroomcnt</th>\n",
       "      <td>52315.0</td>\n",
       "      <td>3.305897</td>\n",
       "      <td>0.940601</td>\n",
       "      <td>0.00</td>\n",
       "      <td>3.000</td>\n",
       "      <td>3.00</td>\n",
       "      <td>4.00</td>\n",
       "      <td>14.0</td>\n",
       "    </tr>\n",
       "    <tr>\n",
       "      <th>bathroomcnt</th>\n",
       "      <td>52315.0</td>\n",
       "      <td>2.302791</td>\n",
       "      <td>1.019080</td>\n",
       "      <td>0.00</td>\n",
       "      <td>2.000</td>\n",
       "      <td>2.00</td>\n",
       "      <td>3.00</td>\n",
       "      <td>18.0</td>\n",
       "    </tr>\n",
       "    <tr>\n",
       "      <th>calculatedfinishedsquarefeet</th>\n",
       "      <td>52315.0</td>\n",
       "      <td>1922.553914</td>\n",
       "      <td>1003.629061</td>\n",
       "      <td>128.00</td>\n",
       "      <td>1268.000</td>\n",
       "      <td>1658.00</td>\n",
       "      <td>2305.00</td>\n",
       "      <td>21929.0</td>\n",
       "    </tr>\n",
       "    <tr>\n",
       "      <th>taxvaluedollarcnt</th>\n",
       "      <td>52315.0</td>\n",
       "      <td>528044.818809</td>\n",
       "      <td>748457.587363</td>\n",
       "      <td>1000.00</td>\n",
       "      <td>193701.000</td>\n",
       "      <td>373374.00</td>\n",
       "      <td>618617.00</td>\n",
       "      <td>49061236.0</td>\n",
       "    </tr>\n",
       "    <tr>\n",
       "      <th>yearbuilt</th>\n",
       "      <td>52315.0</td>\n",
       "      <td>1963.395699</td>\n",
       "      <td>23.133908</td>\n",
       "      <td>1878.00</td>\n",
       "      <td>1950.000</td>\n",
       "      <td>1961.00</td>\n",
       "      <td>1979.00</td>\n",
       "      <td>2016.0</td>\n",
       "    </tr>\n",
       "    <tr>\n",
       "      <th>taxamount</th>\n",
       "      <td>52315.0</td>\n",
       "      <td>6434.748320</td>\n",
       "      <td>8709.643614</td>\n",
       "      <td>49.18</td>\n",
       "      <td>2656.185</td>\n",
       "      <td>4645.42</td>\n",
       "      <td>7371.64</td>\n",
       "      <td>586639.3</td>\n",
       "    </tr>\n",
       "  </tbody>\n",
       "</table>\n",
       "</div>"
      ],
      "text/plain": [
       "                                count           mean            std      min  \\\n",
       "Unnamed: 0                    52315.0   26220.819574   15140.096406     0.00   \n",
       "bedroomcnt                    52315.0       3.305897       0.940601     0.00   \n",
       "bathroomcnt                   52315.0       2.302791       1.019080     0.00   \n",
       "calculatedfinishedsquarefeet  52315.0    1922.553914    1003.629061   128.00   \n",
       "taxvaluedollarcnt             52315.0  528044.818809  748457.587363  1000.00   \n",
       "yearbuilt                     52315.0    1963.395699      23.133908  1878.00   \n",
       "taxamount                     52315.0    6434.748320    8709.643614    49.18   \n",
       "\n",
       "                                     25%        50%        75%         max  \n",
       "Unnamed: 0                     13113.500   26218.00   39335.50     52440.0  \n",
       "bedroomcnt                         3.000       3.00       4.00        14.0  \n",
       "bathroomcnt                        2.000       2.00       3.00        18.0  \n",
       "calculatedfinishedsquarefeet    1268.000    1658.00    2305.00     21929.0  \n",
       "taxvaluedollarcnt             193701.000  373374.00  618617.00  49061236.0  \n",
       "yearbuilt                       1950.000    1961.00    1979.00      2016.0  \n",
       "taxamount                       2656.185    4645.42    7371.64    586639.3  "
      ]
     },
     "execution_count": 14,
     "metadata": {},
     "output_type": "execute_result"
    }
   ],
   "source": [
    "df = df[df.calculatedfinishedsquarefeet <= 25_000]\n",
    "df.describe().T"
   ]
  },
  {
   "cell_type": "code",
   "execution_count": null,
   "id": "ba1b9e75",
   "metadata": {},
   "outputs": [],
   "source": []
  },
  {
   "cell_type": "code",
   "execution_count": null,
   "id": "7674763f",
   "metadata": {},
   "outputs": [],
   "source": []
  },
  {
   "cell_type": "code",
   "execution_count": 15,
   "id": "101c054f",
   "metadata": {},
   "outputs": [
    {
     "data": {
      "text/plain": [
       "5176     18.0\n",
       "14485    13.0\n",
       "6052     11.0\n",
       "48003    11.0\n",
       "26152    11.0\n",
       "         ... \n",
       "38305     7.0\n",
       "30511     7.0\n",
       "28323     7.0\n",
       "240       7.0\n",
       "51586     7.0\n",
       "Name: bathroomcnt, Length: 100, dtype: float64"
      ]
     },
     "execution_count": 15,
     "metadata": {},
     "output_type": "execute_result"
    }
   ],
   "source": [
    "# having a better view of the bathrooms\n",
    "df.bathroomcnt.sort_values(ascending=False).head(100)\n"
   ]
  },
  {
   "cell_type": "code",
   "execution_count": 16,
   "id": "b6d13f44",
   "metadata": {},
   "outputs": [
    {
     "data": {
      "text/plain": [
       "0.9894676479021314"
      ]
     },
     "execution_count": 16,
     "metadata": {},
     "output_type": "execute_result"
    }
   ],
   "source": [
    "# percentage of properties with less than 6 bathrooms\n",
    "df[df.bathroomcnt<6].shape[0]/df.shape[0]"
   ]
  },
  {
   "cell_type": "code",
   "execution_count": 17,
   "id": "c257a05f",
   "metadata": {},
   "outputs": [
    {
     "data": {
      "text/html": [
       "<div>\n",
       "<style scoped>\n",
       "    .dataframe tbody tr th:only-of-type {\n",
       "        vertical-align: middle;\n",
       "    }\n",
       "\n",
       "    .dataframe tbody tr th {\n",
       "        vertical-align: top;\n",
       "    }\n",
       "\n",
       "    .dataframe thead th {\n",
       "        text-align: right;\n",
       "    }\n",
       "</style>\n",
       "<table border=\"1\" class=\"dataframe\">\n",
       "  <thead>\n",
       "    <tr style=\"text-align: right;\">\n",
       "      <th></th>\n",
       "      <th>count</th>\n",
       "      <th>mean</th>\n",
       "      <th>std</th>\n",
       "      <th>min</th>\n",
       "      <th>25%</th>\n",
       "      <th>50%</th>\n",
       "      <th>75%</th>\n",
       "      <th>max</th>\n",
       "    </tr>\n",
       "  </thead>\n",
       "  <tbody>\n",
       "    <tr>\n",
       "      <th>Unnamed: 0</th>\n",
       "      <td>51987.0</td>\n",
       "      <td>26222.308904</td>\n",
       "      <td>15134.927247</td>\n",
       "      <td>0.00</td>\n",
       "      <td>13123.50</td>\n",
       "      <td>26215.00</td>\n",
       "      <td>39329.50</td>\n",
       "      <td>52440.00</td>\n",
       "    </tr>\n",
       "    <tr>\n",
       "      <th>bedroomcnt</th>\n",
       "      <td>51987.0</td>\n",
       "      <td>3.286995</td>\n",
       "      <td>0.905979</td>\n",
       "      <td>0.00</td>\n",
       "      <td>3.00</td>\n",
       "      <td>3.00</td>\n",
       "      <td>4.00</td>\n",
       "      <td>6.00</td>\n",
       "    </tr>\n",
       "    <tr>\n",
       "      <th>bathroomcnt</th>\n",
       "      <td>51987.0</td>\n",
       "      <td>2.276281</td>\n",
       "      <td>0.954040</td>\n",
       "      <td>0.00</td>\n",
       "      <td>2.00</td>\n",
       "      <td>2.00</td>\n",
       "      <td>3.00</td>\n",
       "      <td>6.00</td>\n",
       "    </tr>\n",
       "    <tr>\n",
       "      <th>calculatedfinishedsquarefeet</th>\n",
       "      <td>51987.0</td>\n",
       "      <td>1893.942389</td>\n",
       "      <td>910.663774</td>\n",
       "      <td>128.00</td>\n",
       "      <td>1265.00</td>\n",
       "      <td>1652.00</td>\n",
       "      <td>2290.00</td>\n",
       "      <td>12616.00</td>\n",
       "    </tr>\n",
       "    <tr>\n",
       "      <th>taxvaluedollarcnt</th>\n",
       "      <td>51987.0</td>\n",
       "      <td>508462.956816</td>\n",
       "      <td>601468.477310</td>\n",
       "      <td>1000.00</td>\n",
       "      <td>192601.00</td>\n",
       "      <td>371363.00</td>\n",
       "      <td>612382.00</td>\n",
       "      <td>20203475.00</td>\n",
       "    </tr>\n",
       "    <tr>\n",
       "      <th>yearbuilt</th>\n",
       "      <td>51987.0</td>\n",
       "      <td>1963.314867</td>\n",
       "      <td>23.054712</td>\n",
       "      <td>1878.00</td>\n",
       "      <td>1950.00</td>\n",
       "      <td>1960.00</td>\n",
       "      <td>1979.00</td>\n",
       "      <td>2016.00</td>\n",
       "    </tr>\n",
       "    <tr>\n",
       "      <th>taxamount</th>\n",
       "      <td>51987.0</td>\n",
       "      <td>6205.363168</td>\n",
       "      <td>6922.878408</td>\n",
       "      <td>49.18</td>\n",
       "      <td>2644.86</td>\n",
       "      <td>4623.72</td>\n",
       "      <td>7310.58</td>\n",
       "      <td>229735.52</td>\n",
       "    </tr>\n",
       "  </tbody>\n",
       "</table>\n",
       "</div>"
      ],
      "text/plain": [
       "                                count           mean            std      min  \\\n",
       "Unnamed: 0                    51987.0   26222.308904   15134.927247     0.00   \n",
       "bedroomcnt                    51987.0       3.286995       0.905979     0.00   \n",
       "bathroomcnt                   51987.0       2.276281       0.954040     0.00   \n",
       "calculatedfinishedsquarefeet  51987.0    1893.942389     910.663774   128.00   \n",
       "taxvaluedollarcnt             51987.0  508462.956816  601468.477310  1000.00   \n",
       "yearbuilt                     51987.0    1963.314867      23.054712  1878.00   \n",
       "taxamount                     51987.0    6205.363168    6922.878408    49.18   \n",
       "\n",
       "                                    25%        50%        75%          max  \n",
       "Unnamed: 0                     13123.50   26215.00   39329.50     52440.00  \n",
       "bedroomcnt                         3.00       3.00       4.00         6.00  \n",
       "bathroomcnt                        2.00       2.00       3.00         6.00  \n",
       "calculatedfinishedsquarefeet    1265.00    1652.00    2290.00     12616.00  \n",
       "taxvaluedollarcnt             192601.00  371363.00  612382.00  20203475.00  \n",
       "yearbuilt                       1950.00    1960.00    1979.00      2016.00  \n",
       "taxamount                       2644.86    4623.72    7310.58    229735.52  "
      ]
     },
     "execution_count": 17,
     "metadata": {},
     "output_type": "execute_result"
    }
   ],
   "source": [
    "# dropping 6 bathrooms and higher \n",
    "# dropping 6 bedrooms and higher\n",
    "df = df[df.bathroomcnt <= 6]\n",
    "df = df[df.bedroomcnt <= 6]\n",
    "df.describe().T"
   ]
  },
  {
   "cell_type": "code",
   "execution_count": 18,
   "id": "a59af991",
   "metadata": {},
   "outputs": [
    {
     "data": {
      "text/plain": [
       "51987"
      ]
     },
     "execution_count": 18,
     "metadata": {},
     "output_type": "execute_result"
    }
   ],
   "source": [
    "df[df.calculatedfinishedsquarefeet>70].shape[0]"
   ]
  },
  {
   "cell_type": "code",
   "execution_count": 19,
   "id": "5ccdd9a5",
   "metadata": {},
   "outputs": [],
   "source": [
    "# DataFrame.drop(labels=None, axis=0, index=None, columns=None, level=None, inplace=False, errors='raise')\n"
   ]
  },
  {
   "cell_type": "code",
   "execution_count": 20,
   "id": "97e11cb2",
   "metadata": {},
   "outputs": [
    {
     "data": {
      "text/plain": [
       "0.0"
      ]
     },
     "execution_count": 20,
     "metadata": {},
     "output_type": "execute_result"
    }
   ],
   "source": [
    "# percentage of houses under 6 bedrooms\n",
    "df[df.bedroomcnt>6].shape[0]/df.shape[0]"
   ]
  },
  {
   "cell_type": "code",
   "execution_count": 21,
   "id": "98e9cb26",
   "metadata": {},
   "outputs": [
    {
     "data": {
      "text/plain": [
       "0.9704156808432878"
      ]
     },
     "execution_count": 21,
     "metadata": {},
     "output_type": "execute_result"
    }
   ],
   "source": [
    "# % of houses less than 1,800,000 in tax value\n",
    "df[df.taxvaluedollarcnt<=1_800_000].shape[0]/df.shape[0]"
   ]
  },
  {
   "cell_type": "code",
   "execution_count": 22,
   "id": "da5e1a9a",
   "metadata": {},
   "outputs": [
    {
     "data": {
      "text/html": [
       "<div>\n",
       "<style scoped>\n",
       "    .dataframe tbody tr th:only-of-type {\n",
       "        vertical-align: middle;\n",
       "    }\n",
       "\n",
       "    .dataframe tbody tr th {\n",
       "        vertical-align: top;\n",
       "    }\n",
       "\n",
       "    .dataframe thead th {\n",
       "        text-align: right;\n",
       "    }\n",
       "</style>\n",
       "<table border=\"1\" class=\"dataframe\">\n",
       "  <thead>\n",
       "    <tr style=\"text-align: right;\">\n",
       "      <th></th>\n",
       "      <th>count</th>\n",
       "      <th>mean</th>\n",
       "      <th>std</th>\n",
       "      <th>min</th>\n",
       "      <th>25%</th>\n",
       "      <th>50%</th>\n",
       "      <th>75%</th>\n",
       "      <th>max</th>\n",
       "    </tr>\n",
       "  </thead>\n",
       "  <tbody>\n",
       "    <tr>\n",
       "      <th>Unnamed: 0</th>\n",
       "      <td>50449.0</td>\n",
       "      <td>26225.508573</td>\n",
       "      <td>15134.245453</td>\n",
       "      <td>0.00</td>\n",
       "      <td>13134.00</td>\n",
       "      <td>26222.00</td>\n",
       "      <td>39342.00</td>\n",
       "      <td>52440.00</td>\n",
       "    </tr>\n",
       "    <tr>\n",
       "      <th>bedroomcnt</th>\n",
       "      <td>50449.0</td>\n",
       "      <td>3.265099</td>\n",
       "      <td>0.893808</td>\n",
       "      <td>0.00</td>\n",
       "      <td>3.00</td>\n",
       "      <td>3.00</td>\n",
       "      <td>4.00</td>\n",
       "      <td>6.00</td>\n",
       "    </tr>\n",
       "    <tr>\n",
       "      <th>bathroomcnt</th>\n",
       "      <td>50449.0</td>\n",
       "      <td>2.221828</td>\n",
       "      <td>0.887755</td>\n",
       "      <td>0.00</td>\n",
       "      <td>2.00</td>\n",
       "      <td>2.00</td>\n",
       "      <td>3.00</td>\n",
       "      <td>6.00</td>\n",
       "    </tr>\n",
       "    <tr>\n",
       "      <th>calculatedfinishedsquarefeet</th>\n",
       "      <td>50449.0</td>\n",
       "      <td>1832.789510</td>\n",
       "      <td>810.166271</td>\n",
       "      <td>128.00</td>\n",
       "      <td>1256.00</td>\n",
       "      <td>1631.00</td>\n",
       "      <td>2224.00</td>\n",
       "      <td>8615.00</td>\n",
       "    </tr>\n",
       "    <tr>\n",
       "      <th>taxvaluedollarcnt</th>\n",
       "      <td>50449.0</td>\n",
       "      <td>434282.132906</td>\n",
       "      <td>334485.063811</td>\n",
       "      <td>1000.00</td>\n",
       "      <td>187028.00</td>\n",
       "      <td>360766.00</td>\n",
       "      <td>582495.00</td>\n",
       "      <td>1800000.00</td>\n",
       "    </tr>\n",
       "    <tr>\n",
       "      <th>yearbuilt</th>\n",
       "      <td>50449.0</td>\n",
       "      <td>1962.984043</td>\n",
       "      <td>22.781555</td>\n",
       "      <td>1878.00</td>\n",
       "      <td>1950.00</td>\n",
       "      <td>1960.00</td>\n",
       "      <td>1978.00</td>\n",
       "      <td>2016.00</td>\n",
       "    </tr>\n",
       "    <tr>\n",
       "      <th>taxamount</th>\n",
       "      <td>50449.0</td>\n",
       "      <td>5359.802703</td>\n",
       "      <td>3913.816111</td>\n",
       "      <td>49.18</td>\n",
       "      <td>2587.04</td>\n",
       "      <td>4506.12</td>\n",
       "      <td>6970.24</td>\n",
       "      <td>58634.77</td>\n",
       "    </tr>\n",
       "  </tbody>\n",
       "</table>\n",
       "</div>"
      ],
      "text/plain": [
       "                                count           mean            std      min  \\\n",
       "Unnamed: 0                    50449.0   26225.508573   15134.245453     0.00   \n",
       "bedroomcnt                    50449.0       3.265099       0.893808     0.00   \n",
       "bathroomcnt                   50449.0       2.221828       0.887755     0.00   \n",
       "calculatedfinishedsquarefeet  50449.0    1832.789510     810.166271   128.00   \n",
       "taxvaluedollarcnt             50449.0  434282.132906  334485.063811  1000.00   \n",
       "yearbuilt                     50449.0    1962.984043      22.781555  1878.00   \n",
       "taxamount                     50449.0    5359.802703    3913.816111    49.18   \n",
       "\n",
       "                                    25%        50%        75%         max  \n",
       "Unnamed: 0                     13134.00   26222.00   39342.00    52440.00  \n",
       "bedroomcnt                         3.00       3.00       4.00        6.00  \n",
       "bathroomcnt                        2.00       2.00       3.00        6.00  \n",
       "calculatedfinishedsquarefeet    1256.00    1631.00    2224.00     8615.00  \n",
       "taxvaluedollarcnt             187028.00  360766.00  582495.00  1800000.00  \n",
       "yearbuilt                       1950.00    1960.00    1978.00     2016.00  \n",
       "taxamount                       2587.04    4506.12    6970.24    58634.77  "
      ]
     },
     "execution_count": 22,
     "metadata": {},
     "output_type": "execute_result"
    }
   ],
   "source": [
    "df = df[df.taxvaluedollarcnt<=1_800_000]\n",
    "df.describe().T"
   ]
  },
  {
   "cell_type": "code",
   "execution_count": 23,
   "id": "f512c0ac",
   "metadata": {},
   "outputs": [],
   "source": [
    "# dropping data lower than 70 sqfeet due to industry analysis\n",
    "df = df[df.calculatedfinishedsquarefeet>70]"
   ]
  },
  {
   "cell_type": "code",
   "execution_count": 24,
   "id": "5ec5dc3f",
   "metadata": {
    "scrolled": false
   },
   "outputs": [
    {
     "data": {
      "text/html": [
       "<div>\n",
       "<style scoped>\n",
       "    .dataframe tbody tr th:only-of-type {\n",
       "        vertical-align: middle;\n",
       "    }\n",
       "\n",
       "    .dataframe tbody tr th {\n",
       "        vertical-align: top;\n",
       "    }\n",
       "\n",
       "    .dataframe thead th {\n",
       "        text-align: right;\n",
       "    }\n",
       "</style>\n",
       "<table border=\"1\" class=\"dataframe\">\n",
       "  <thead>\n",
       "    <tr style=\"text-align: right;\">\n",
       "      <th></th>\n",
       "      <th>count</th>\n",
       "      <th>mean</th>\n",
       "      <th>std</th>\n",
       "      <th>min</th>\n",
       "      <th>25%</th>\n",
       "      <th>50%</th>\n",
       "      <th>75%</th>\n",
       "      <th>max</th>\n",
       "    </tr>\n",
       "  </thead>\n",
       "  <tbody>\n",
       "    <tr>\n",
       "      <th>Unnamed: 0</th>\n",
       "      <td>50449.0</td>\n",
       "      <td>26225.508573</td>\n",
       "      <td>15134.245453</td>\n",
       "      <td>0.00</td>\n",
       "      <td>13134.00</td>\n",
       "      <td>26222.00</td>\n",
       "      <td>39342.00</td>\n",
       "      <td>52440.00</td>\n",
       "    </tr>\n",
       "    <tr>\n",
       "      <th>bedroomcnt</th>\n",
       "      <td>50449.0</td>\n",
       "      <td>3.265099</td>\n",
       "      <td>0.893808</td>\n",
       "      <td>0.00</td>\n",
       "      <td>3.00</td>\n",
       "      <td>3.00</td>\n",
       "      <td>4.00</td>\n",
       "      <td>6.00</td>\n",
       "    </tr>\n",
       "    <tr>\n",
       "      <th>bathroomcnt</th>\n",
       "      <td>50449.0</td>\n",
       "      <td>2.221828</td>\n",
       "      <td>0.887755</td>\n",
       "      <td>0.00</td>\n",
       "      <td>2.00</td>\n",
       "      <td>2.00</td>\n",
       "      <td>3.00</td>\n",
       "      <td>6.00</td>\n",
       "    </tr>\n",
       "    <tr>\n",
       "      <th>calculatedfinishedsquarefeet</th>\n",
       "      <td>50449.0</td>\n",
       "      <td>1832.789510</td>\n",
       "      <td>810.166271</td>\n",
       "      <td>128.00</td>\n",
       "      <td>1256.00</td>\n",
       "      <td>1631.00</td>\n",
       "      <td>2224.00</td>\n",
       "      <td>8615.00</td>\n",
       "    </tr>\n",
       "    <tr>\n",
       "      <th>taxvaluedollarcnt</th>\n",
       "      <td>50449.0</td>\n",
       "      <td>434282.132906</td>\n",
       "      <td>334485.063811</td>\n",
       "      <td>1000.00</td>\n",
       "      <td>187028.00</td>\n",
       "      <td>360766.00</td>\n",
       "      <td>582495.00</td>\n",
       "      <td>1800000.00</td>\n",
       "    </tr>\n",
       "    <tr>\n",
       "      <th>yearbuilt</th>\n",
       "      <td>50449.0</td>\n",
       "      <td>1962.984043</td>\n",
       "      <td>22.781555</td>\n",
       "      <td>1878.00</td>\n",
       "      <td>1950.00</td>\n",
       "      <td>1960.00</td>\n",
       "      <td>1978.00</td>\n",
       "      <td>2016.00</td>\n",
       "    </tr>\n",
       "    <tr>\n",
       "      <th>taxamount</th>\n",
       "      <td>50449.0</td>\n",
       "      <td>5359.802703</td>\n",
       "      <td>3913.816111</td>\n",
       "      <td>49.18</td>\n",
       "      <td>2587.04</td>\n",
       "      <td>4506.12</td>\n",
       "      <td>6970.24</td>\n",
       "      <td>58634.77</td>\n",
       "    </tr>\n",
       "  </tbody>\n",
       "</table>\n",
       "</div>"
      ],
      "text/plain": [
       "                                count           mean            std      min  \\\n",
       "Unnamed: 0                    50449.0   26225.508573   15134.245453     0.00   \n",
       "bedroomcnt                    50449.0       3.265099       0.893808     0.00   \n",
       "bathroomcnt                   50449.0       2.221828       0.887755     0.00   \n",
       "calculatedfinishedsquarefeet  50449.0    1832.789510     810.166271   128.00   \n",
       "taxvaluedollarcnt             50449.0  434282.132906  334485.063811  1000.00   \n",
       "yearbuilt                     50449.0    1962.984043      22.781555  1878.00   \n",
       "taxamount                     50449.0    5359.802703    3913.816111    49.18   \n",
       "\n",
       "                                    25%        50%        75%         max  \n",
       "Unnamed: 0                     13134.00   26222.00   39342.00    52440.00  \n",
       "bedroomcnt                         3.00       3.00       4.00        6.00  \n",
       "bathroomcnt                        2.00       2.00       3.00        6.00  \n",
       "calculatedfinishedsquarefeet    1256.00    1631.00    2224.00     8615.00  \n",
       "taxvaluedollarcnt             187028.00  360766.00  582495.00  1800000.00  \n",
       "yearbuilt                       1950.00    1960.00    1978.00     2016.00  \n",
       "taxamount                       2587.04    4506.12    6970.24    58634.77  "
      ]
     },
     "execution_count": 24,
     "metadata": {},
     "output_type": "execute_result"
    }
   ],
   "source": [
    "df.describe().T"
   ]
  },
  {
   "cell_type": "code",
   "execution_count": 25,
   "id": "b91b526c",
   "metadata": {},
   "outputs": [],
   "source": [
    "# convert fips to catgorical"
   ]
  },
  {
   "cell_type": "code",
   "execution_count": 26,
   "id": "dc1cc34f",
   "metadata": {},
   "outputs": [],
   "source": [
    "df[\"fips\"] = pd.Categorical(df.fips)"
   ]
  },
  {
   "cell_type": "code",
   "execution_count": 27,
   "id": "4fd6e453",
   "metadata": {},
   "outputs": [
    {
     "name": "stdout",
     "output_type": "stream",
     "text": [
      "<class 'pandas.core.frame.DataFrame'>\n",
      "Int64Index: 50449 entries, 0 to 52440\n",
      "Data columns (total 8 columns):\n",
      " #   Column                        Non-Null Count  Dtype   \n",
      "---  ------                        --------------  -----   \n",
      " 0   Unnamed: 0                    50449 non-null  int64   \n",
      " 1   bedroomcnt                    50449 non-null  float64 \n",
      " 2   bathroomcnt                   50449 non-null  float64 \n",
      " 3   calculatedfinishedsquarefeet  50449 non-null  float64 \n",
      " 4   taxvaluedollarcnt             50449 non-null  float64 \n",
      " 5   yearbuilt                     50449 non-null  float64 \n",
      " 6   taxamount                     50449 non-null  float64 \n",
      " 7   fips                          50449 non-null  category\n",
      "dtypes: category(1), float64(6), int64(1)\n",
      "memory usage: 3.1 MB\n"
     ]
    }
   ],
   "source": [
    "df.info()"
   ]
  },
  {
   "cell_type": "code",
   "execution_count": 28,
   "id": "c420d52b",
   "metadata": {},
   "outputs": [],
   "source": [
    "# get dummies on fips\n",
    "dummy_df = pd.get_dummies(df[[\"fips\"]], dummy_na =False, drop_first = [True,True])\n",
    "df = pd.concat([df, dummy_df], axis = 1)\n"
   ]
  },
  {
   "cell_type": "code",
   "execution_count": 29,
   "id": "0ebc8cb5",
   "metadata": {
    "scrolled": true
   },
   "outputs": [
    {
     "name": "stdout",
     "output_type": "stream",
     "text": [
      "<class 'pandas.core.frame.DataFrame'>\n",
      "Int64Index: 50449 entries, 0 to 52440\n",
      "Data columns (total 10 columns):\n",
      " #   Column                        Non-Null Count  Dtype   \n",
      "---  ------                        --------------  -----   \n",
      " 0   Unnamed: 0                    50449 non-null  int64   \n",
      " 1   bedroomcnt                    50449 non-null  float64 \n",
      " 2   bathroomcnt                   50449 non-null  float64 \n",
      " 3   calculatedfinishedsquarefeet  50449 non-null  float64 \n",
      " 4   taxvaluedollarcnt             50449 non-null  float64 \n",
      " 5   yearbuilt                     50449 non-null  float64 \n",
      " 6   taxamount                     50449 non-null  float64 \n",
      " 7   fips                          50449 non-null  category\n",
      " 8   fips_6059                     50449 non-null  uint8   \n",
      " 9   fips_6111                     50449 non-null  uint8   \n",
      "dtypes: category(1), float64(6), int64(1), uint8(2)\n",
      "memory usage: 3.2 MB\n"
     ]
    }
   ],
   "source": [
    "df.info()"
   ]
  },
  {
   "cell_type": "code",
   "execution_count": null,
   "id": "f4dc694f",
   "metadata": {},
   "outputs": [],
   "source": []
  },
  {
   "cell_type": "code",
   "execution_count": null,
   "id": "6e3f6f16",
   "metadata": {},
   "outputs": [],
   "source": []
  },
  {
   "cell_type": "code",
   "execution_count": null,
   "id": "5ff7777e",
   "metadata": {},
   "outputs": [],
   "source": []
  },
  {
   "cell_type": "code",
   "execution_count": 30,
   "id": "e042da7f",
   "metadata": {},
   "outputs": [],
   "source": [
    "from sklearn.neighbors import KNeighborsClassifier\n",
    "from sklearn.preprocessing import MinMaxScaler, StandardScaler, RobustScaler"
   ]
  },
  {
   "cell_type": "code",
   "execution_count": null,
   "id": "1d1201ae",
   "metadata": {},
   "outputs": [],
   "source": []
  },
  {
   "cell_type": "code",
   "execution_count": 32,
   "id": "b5428cbe",
   "metadata": {},
   "outputs": [],
   "source": [
    "# splitting my data\n",
    "'''\n",
    "This function performs split on zillow data, stratify taxvaluedollarcnt.\n",
    "Returns train, validate, and test dfs.\n",
    "'''\n",
    "train_validate, test = train_test_split(df, test_size=.2, \n",
    "                                        random_state=123) \n",
    "#                                         stratify=)\n",
    "train, validate = train_test_split(train_validate, test_size=.3, \n",
    "                                   random_state=123) \n",
    "#                                    stratify=train_validate)"
   ]
  },
  {
   "cell_type": "code",
   "execution_count": 33,
   "id": "c6be7d61",
   "metadata": {},
   "outputs": [
    {
     "data": {
      "text/plain": [
       "((28251, 10), (12108, 10), (10090, 10))"
      ]
     },
     "execution_count": 33,
     "metadata": {},
     "output_type": "execute_result"
    }
   ],
   "source": [
    "train.shape, validate.shape, test.shape"
   ]
  },
  {
   "cell_type": "code",
   "execution_count": null,
   "id": "92bad45d",
   "metadata": {},
   "outputs": [],
   "source": [
    "train.head()"
   ]
  },
  {
   "cell_type": "code",
   "execution_count": null,
   "id": "82d980a1",
   "metadata": {},
   "outputs": [],
   "source": []
  },
  {
   "cell_type": "code",
   "execution_count": null,
   "id": "24bebcec",
   "metadata": {},
   "outputs": [],
   "source": []
  }
 ],
 "metadata": {
  "kernelspec": {
   "display_name": "Python 3 (ipykernel)",
   "language": "python",
   "name": "python3"
  },
  "language_info": {
   "codemirror_mode": {
    "name": "ipython",
    "version": 3
   },
   "file_extension": ".py",
   "mimetype": "text/x-python",
   "name": "python",
   "nbconvert_exporter": "python",
   "pygments_lexer": "ipython3",
   "version": "3.9.7"
  }
 },
 "nbformat": 4,
 "nbformat_minor": 5
}

{
 "cells": [
  {
   "cell_type": "code",
   "execution_count": 1,
   "id": "352b63f8",
   "metadata": {},
   "outputs": [],
   "source": [
    "import warnings\n",
    "warnings.filterwarnings(\"ignore\")\n",
    "\n",
    "import pandas as pd\n",
    "import matplotlib.pyplot as plt\n",
    "import seaborn as sns\n",
    "import numpy as np\n",
    "import env\n",
    "import acquire\n",
    "import wrangle\n",
    "from sklearn.model_selection import train_test_split\n",
    "from sklearn.neighbors import KNeighborsClassifier\n",
    "from sklearn.preprocessing import MinMaxScaler, StandardScaler, RobustScaler, QuantileTransformer\n"
   ]
  },
  {
   "cell_type": "code",
   "execution_count": null,
   "id": "5152d61c",
   "metadata": {},
   "outputs": [],
   "source": []
  },
  {
   "cell_type": "code",
   "execution_count": 6,
   "id": "7dfb4dd1",
   "metadata": {
    "scrolled": true
   },
   "outputs": [
    {
     "data": {
      "text/html": [
       "<div>\n",
       "<style scoped>\n",
       "    .dataframe tbody tr th:only-of-type {\n",
       "        vertical-align: middle;\n",
       "    }\n",
       "\n",
       "    .dataframe tbody tr th {\n",
       "        vertical-align: top;\n",
       "    }\n",
       "\n",
       "    .dataframe thead th {\n",
       "        text-align: right;\n",
       "    }\n",
       "</style>\n",
       "<table border=\"1\" class=\"dataframe\">\n",
       "  <thead>\n",
       "    <tr style=\"text-align: right;\">\n",
       "      <th></th>\n",
       "      <th>bedrooms</th>\n",
       "      <th>bathrooms</th>\n",
       "      <th>squarefeet</th>\n",
       "      <th>total_taxes</th>\n",
       "      <th>yearbuilt</th>\n",
       "      <th>taxamount</th>\n",
       "      <th>county</th>\n",
       "    </tr>\n",
       "  </thead>\n",
       "  <tbody>\n",
       "    <tr>\n",
       "      <th>0</th>\n",
       "      <td>4.0</td>\n",
       "      <td>4.0</td>\n",
       "      <td>2954.0</td>\n",
       "      <td>735227.0</td>\n",
       "      <td>1924.0</td>\n",
       "      <td>9057.14</td>\n",
       "      <td>Los_Angeles</td>\n",
       "    </tr>\n",
       "    <tr>\n",
       "      <th>1</th>\n",
       "      <td>4.0</td>\n",
       "      <td>2.0</td>\n",
       "      <td>1390.0</td>\n",
       "      <td>429900.0</td>\n",
       "      <td>1962.0</td>\n",
       "      <td>4892.26</td>\n",
       "      <td>Orange</td>\n",
       "    </tr>\n",
       "    <tr>\n",
       "      <th>2</th>\n",
       "      <td>2.0</td>\n",
       "      <td>1.0</td>\n",
       "      <td>823.0</td>\n",
       "      <td>148542.0</td>\n",
       "      <td>1986.0</td>\n",
       "      <td>2666.78</td>\n",
       "      <td>Los_Angeles</td>\n",
       "    </tr>\n",
       "    <tr>\n",
       "      <th>3</th>\n",
       "      <td>4.0</td>\n",
       "      <td>3.0</td>\n",
       "      <td>2966.0</td>\n",
       "      <td>654241.0</td>\n",
       "      <td>2001.0</td>\n",
       "      <td>8008.59</td>\n",
       "      <td>Los_Angeles</td>\n",
       "    </tr>\n",
       "    <tr>\n",
       "      <th>4</th>\n",
       "      <td>2.0</td>\n",
       "      <td>2.0</td>\n",
       "      <td>1540.0</td>\n",
       "      <td>456340.0</td>\n",
       "      <td>1938.0</td>\n",
       "      <td>5651.44</td>\n",
       "      <td>Los_Angeles</td>\n",
       "    </tr>\n",
       "    <tr>\n",
       "      <th>...</th>\n",
       "      <td>...</td>\n",
       "      <td>...</td>\n",
       "      <td>...</td>\n",
       "      <td>...</td>\n",
       "      <td>...</td>\n",
       "      <td>...</td>\n",
       "      <td>...</td>\n",
       "    </tr>\n",
       "    <tr>\n",
       "      <th>52436</th>\n",
       "      <td>4.0</td>\n",
       "      <td>2.5</td>\n",
       "      <td>2504.0</td>\n",
       "      <td>809000.0</td>\n",
       "      <td>1968.0</td>\n",
       "      <td>8967.94</td>\n",
       "      <td>Orange</td>\n",
       "    </tr>\n",
       "    <tr>\n",
       "      <th>52437</th>\n",
       "      <td>4.0</td>\n",
       "      <td>2.0</td>\n",
       "      <td>1881.0</td>\n",
       "      <td>449245.0</td>\n",
       "      <td>1974.0</td>\n",
       "      <td>5743.88</td>\n",
       "      <td>Los_Angeles</td>\n",
       "    </tr>\n",
       "    <tr>\n",
       "      <th>52438</th>\n",
       "      <td>3.0</td>\n",
       "      <td>3.0</td>\n",
       "      <td>2352.0</td>\n",
       "      <td>870753.0</td>\n",
       "      <td>1907.0</td>\n",
       "      <td>10503.67</td>\n",
       "      <td>Los_Angeles</td>\n",
       "    </tr>\n",
       "    <tr>\n",
       "      <th>52439</th>\n",
       "      <td>2.0</td>\n",
       "      <td>1.0</td>\n",
       "      <td>1468.0</td>\n",
       "      <td>268292.0</td>\n",
       "      <td>1932.0</td>\n",
       "      <td>3284.39</td>\n",
       "      <td>Los_Angeles</td>\n",
       "    </tr>\n",
       "    <tr>\n",
       "      <th>52440</th>\n",
       "      <td>3.0</td>\n",
       "      <td>2.0</td>\n",
       "      <td>1175.0</td>\n",
       "      <td>467759.0</td>\n",
       "      <td>1954.0</td>\n",
       "      <td>5744.27</td>\n",
       "      <td>Los_Angeles</td>\n",
       "    </tr>\n",
       "  </tbody>\n",
       "</table>\n",
       "<p>48372 rows × 7 columns</p>\n",
       "</div>"
      ],
      "text/plain": [
       "       bedrooms  bathrooms  squarefeet  total_taxes  yearbuilt  taxamount  \\\n",
       "0           4.0        4.0      2954.0     735227.0     1924.0    9057.14   \n",
       "1           4.0        2.0      1390.0     429900.0     1962.0    4892.26   \n",
       "2           2.0        1.0       823.0     148542.0     1986.0    2666.78   \n",
       "3           4.0        3.0      2966.0     654241.0     2001.0    8008.59   \n",
       "4           2.0        2.0      1540.0     456340.0     1938.0    5651.44   \n",
       "...         ...        ...         ...          ...        ...        ...   \n",
       "52436       4.0        2.5      2504.0     809000.0     1968.0    8967.94   \n",
       "52437       4.0        2.0      1881.0     449245.0     1974.0    5743.88   \n",
       "52438       3.0        3.0      2352.0     870753.0     1907.0   10503.67   \n",
       "52439       2.0        1.0      1468.0     268292.0     1932.0    3284.39   \n",
       "52440       3.0        2.0      1175.0     467759.0     1954.0    5744.27   \n",
       "\n",
       "            county  \n",
       "0      Los_Angeles  \n",
       "1           Orange  \n",
       "2      Los_Angeles  \n",
       "3      Los_Angeles  \n",
       "4      Los_Angeles  \n",
       "...            ...  \n",
       "52436       Orange  \n",
       "52437  Los_Angeles  \n",
       "52438  Los_Angeles  \n",
       "52439  Los_Angeles  \n",
       "52440  Los_Angeles  \n",
       "\n",
       "[48372 rows x 7 columns]"
      ]
     },
     "execution_count": 6,
     "metadata": {},
     "output_type": "execute_result"
    }
   ],
   "source": [
    "df = wrangle.wrangle_zillow()\n",
    "df"
   ]
  },
  {
   "cell_type": "code",
   "execution_count": 7,
   "id": "6e3f6f16",
   "metadata": {},
   "outputs": [
    {
     "name": "stdout",
     "output_type": "stream",
     "text": [
      "<class 'pandas.core.frame.DataFrame'>\n",
      "Int64Index: 48372 entries, 0 to 52440\n",
      "Data columns (total 7 columns):\n",
      " #   Column       Non-Null Count  Dtype  \n",
      "---  ------       --------------  -----  \n",
      " 0   bedrooms     48372 non-null  float64\n",
      " 1   bathrooms    48372 non-null  float64\n",
      " 2   squarefeet   48372 non-null  float64\n",
      " 3   total_taxes  48372 non-null  float64\n",
      " 4   yearbuilt    48372 non-null  float64\n",
      " 5   taxamount    48372 non-null  float64\n",
      " 6   county       48372 non-null  object \n",
      "dtypes: float64(6), object(1)\n",
      "memory usage: 3.0+ MB\n"
     ]
    }
   ],
   "source": [
    "df.info()"
   ]
  },
  {
   "cell_type": "code",
   "execution_count": 8,
   "id": "5ff7777e",
   "metadata": {},
   "outputs": [
    {
     "data": {
      "text/html": [
       "<div>\n",
       "<style scoped>\n",
       "    .dataframe tbody tr th:only-of-type {\n",
       "        vertical-align: middle;\n",
       "    }\n",
       "\n",
       "    .dataframe tbody tr th {\n",
       "        vertical-align: top;\n",
       "    }\n",
       "\n",
       "    .dataframe thead th {\n",
       "        text-align: right;\n",
       "    }\n",
       "</style>\n",
       "<table border=\"1\" class=\"dataframe\">\n",
       "  <thead>\n",
       "    <tr style=\"text-align: right;\">\n",
       "      <th></th>\n",
       "      <th>bedrooms</th>\n",
       "      <th>bathrooms</th>\n",
       "      <th>squarefeet</th>\n",
       "      <th>total_taxes</th>\n",
       "      <th>yearbuilt</th>\n",
       "      <th>taxamount</th>\n",
       "      <th>county</th>\n",
       "    </tr>\n",
       "  </thead>\n",
       "  <tbody>\n",
       "    <tr>\n",
       "      <th>0</th>\n",
       "      <td>4.0</td>\n",
       "      <td>4.0</td>\n",
       "      <td>2954.0</td>\n",
       "      <td>735227.0</td>\n",
       "      <td>1924.0</td>\n",
       "      <td>9057.14</td>\n",
       "      <td>Los_Angeles</td>\n",
       "    </tr>\n",
       "    <tr>\n",
       "      <th>1</th>\n",
       "      <td>4.0</td>\n",
       "      <td>2.0</td>\n",
       "      <td>1390.0</td>\n",
       "      <td>429900.0</td>\n",
       "      <td>1962.0</td>\n",
       "      <td>4892.26</td>\n",
       "      <td>Orange</td>\n",
       "    </tr>\n",
       "    <tr>\n",
       "      <th>2</th>\n",
       "      <td>2.0</td>\n",
       "      <td>1.0</td>\n",
       "      <td>823.0</td>\n",
       "      <td>148542.0</td>\n",
       "      <td>1986.0</td>\n",
       "      <td>2666.78</td>\n",
       "      <td>Los_Angeles</td>\n",
       "    </tr>\n",
       "    <tr>\n",
       "      <th>3</th>\n",
       "      <td>4.0</td>\n",
       "      <td>3.0</td>\n",
       "      <td>2966.0</td>\n",
       "      <td>654241.0</td>\n",
       "      <td>2001.0</td>\n",
       "      <td>8008.59</td>\n",
       "      <td>Los_Angeles</td>\n",
       "    </tr>\n",
       "    <tr>\n",
       "      <th>4</th>\n",
       "      <td>2.0</td>\n",
       "      <td>2.0</td>\n",
       "      <td>1540.0</td>\n",
       "      <td>456340.0</td>\n",
       "      <td>1938.0</td>\n",
       "      <td>5651.44</td>\n",
       "      <td>Los_Angeles</td>\n",
       "    </tr>\n",
       "  </tbody>\n",
       "</table>\n",
       "</div>"
      ],
      "text/plain": [
       "   bedrooms  bathrooms  squarefeet  total_taxes  yearbuilt  taxamount  \\\n",
       "0       4.0        4.0      2954.0     735227.0     1924.0    9057.14   \n",
       "1       4.0        2.0      1390.0     429900.0     1962.0    4892.26   \n",
       "2       2.0        1.0       823.0     148542.0     1986.0    2666.78   \n",
       "3       4.0        3.0      2966.0     654241.0     2001.0    8008.59   \n",
       "4       2.0        2.0      1540.0     456340.0     1938.0    5651.44   \n",
       "\n",
       "        county  \n",
       "0  Los_Angeles  \n",
       "1       Orange  \n",
       "2  Los_Angeles  \n",
       "3  Los_Angeles  \n",
       "4  Los_Angeles  "
      ]
     },
     "execution_count": 8,
     "metadata": {},
     "output_type": "execute_result"
    }
   ],
   "source": [
    "df.head()"
   ]
  },
  {
   "cell_type": "code",
   "execution_count": 9,
   "id": "e042da7f",
   "metadata": {},
   "outputs": [],
   "source": [
    "from sklearn.neighbors import KNeighborsClassifier\n",
    "from sklearn.preprocessing import MinMaxScaler, StandardScaler, RobustScaler"
   ]
  },
  {
   "cell_type": "code",
   "execution_count": null,
   "id": "1d1201ae",
   "metadata": {},
   "outputs": [],
   "source": []
  },
  {
   "cell_type": "code",
   "execution_count": 10,
   "id": "b5428cbe",
   "metadata": {},
   "outputs": [],
   "source": [
    "# splitting my data\n",
    "'''\n",
    "This function performs split on zillow data, stratify taxvaluedollarcnt.\n",
    "Returns train, validate, and test dfs.\n",
    "'''\n",
    "train_validate, test = train_test_split(df, test_size=.2, \n",
    "                                        random_state=123) \n",
    "#                                         stratify=)\n",
    "train, validate = train_test_split(train_validate, test_size=.3, \n",
    "                                   random_state=123) \n",
    "#                                    stratify=train_validate)"
   ]
  },
  {
   "cell_type": "code",
   "execution_count": 11,
   "id": "c6be7d61",
   "metadata": {},
   "outputs": [
    {
     "data": {
      "text/plain": [
       "((27087, 7), (11610, 7), (9675, 7))"
      ]
     },
     "execution_count": 11,
     "metadata": {},
     "output_type": "execute_result"
    }
   ],
   "source": [
    "train.shape, validate.shape, test.shape"
   ]
  },
  {
   "cell_type": "markdown",
   "id": "1e713709",
   "metadata": {},
   "source": [
    "### 1. Apply the scalers we talked about in this lesson to your data and visualize the results for the unscaled and scaled distribution "
   ]
  },
  {
   "cell_type": "code",
   "execution_count": 12,
   "id": "67ec5fab",
   "metadata": {
    "scrolled": true
   },
   "outputs": [
    {
     "data": {
      "text/html": [
       "<div>\n",
       "<style scoped>\n",
       "    .dataframe tbody tr th:only-of-type {\n",
       "        vertical-align: middle;\n",
       "    }\n",
       "\n",
       "    .dataframe tbody tr th {\n",
       "        vertical-align: top;\n",
       "    }\n",
       "\n",
       "    .dataframe thead th {\n",
       "        text-align: right;\n",
       "    }\n",
       "</style>\n",
       "<table border=\"1\" class=\"dataframe\">\n",
       "  <thead>\n",
       "    <tr style=\"text-align: right;\">\n",
       "      <th></th>\n",
       "      <th>bedrooms</th>\n",
       "      <th>bathrooms</th>\n",
       "      <th>squarefeet</th>\n",
       "      <th>total_taxes</th>\n",
       "    </tr>\n",
       "  </thead>\n",
       "  <tbody>\n",
       "    <tr>\n",
       "      <th>15738</th>\n",
       "      <td>3.0</td>\n",
       "      <td>2.0</td>\n",
       "      <td>1855.0</td>\n",
       "      <td>67857.0</td>\n",
       "    </tr>\n",
       "    <tr>\n",
       "      <th>32066</th>\n",
       "      <td>3.0</td>\n",
       "      <td>1.0</td>\n",
       "      <td>1082.0</td>\n",
       "      <td>295125.0</td>\n",
       "    </tr>\n",
       "    <tr>\n",
       "      <th>23254</th>\n",
       "      <td>4.0</td>\n",
       "      <td>3.0</td>\n",
       "      <td>3294.0</td>\n",
       "      <td>717274.0</td>\n",
       "    </tr>\n",
       "    <tr>\n",
       "      <th>22616</th>\n",
       "      <td>3.0</td>\n",
       "      <td>1.5</td>\n",
       "      <td>1426.0</td>\n",
       "      <td>318217.0</td>\n",
       "    </tr>\n",
       "    <tr>\n",
       "      <th>50357</th>\n",
       "      <td>4.0</td>\n",
       "      <td>3.0</td>\n",
       "      <td>2612.0</td>\n",
       "      <td>396546.0</td>\n",
       "    </tr>\n",
       "  </tbody>\n",
       "</table>\n",
       "</div>"
      ],
      "text/plain": [
       "       bedrooms  bathrooms  squarefeet  total_taxes\n",
       "15738       3.0        2.0      1855.0      67857.0\n",
       "32066       3.0        1.0      1082.0     295125.0\n",
       "23254       4.0        3.0      3294.0     717274.0\n",
       "22616       3.0        1.5      1426.0     318217.0\n",
       "50357       4.0        3.0      2612.0     396546.0"
      ]
     },
     "execution_count": 12,
     "metadata": {},
     "output_type": "execute_result"
    }
   ],
   "source": [
    "columns_to_scale = train[[\"bedrooms\",\"bathrooms\",\"squarefeet\",\"total_taxes\"]]\n",
    "columns_to_scale.head()"
   ]
  },
  {
   "cell_type": "code",
   "execution_count": 13,
   "id": "3b5088ce",
   "metadata": {},
   "outputs": [],
   "source": [
    "X_train, X_validate= columns_to_scale, columns_to_scale\n",
    "y_train, y_validate = columns_to_scale, columns_to_scale"
   ]
  },
  {
   "cell_type": "code",
   "execution_count": 14,
   "id": "56b6a05d",
   "metadata": {},
   "outputs": [
    {
     "data": {
      "text/html": [
       "<div>\n",
       "<style scoped>\n",
       "    .dataframe tbody tr th:only-of-type {\n",
       "        vertical-align: middle;\n",
       "    }\n",
       "\n",
       "    .dataframe tbody tr th {\n",
       "        vertical-align: top;\n",
       "    }\n",
       "\n",
       "    .dataframe thead th {\n",
       "        text-align: right;\n",
       "    }\n",
       "</style>\n",
       "<table border=\"1\" class=\"dataframe\">\n",
       "  <thead>\n",
       "    <tr style=\"text-align: right;\">\n",
       "      <th></th>\n",
       "      <th>0</th>\n",
       "      <th>1</th>\n",
       "      <th>2</th>\n",
       "      <th>3</th>\n",
       "    </tr>\n",
       "  </thead>\n",
       "  <tbody>\n",
       "    <tr>\n",
       "      <th>0</th>\n",
       "      <td>0.500000</td>\n",
       "      <td>0.333333</td>\n",
       "      <td>0.293216</td>\n",
       "      <td>0.055761</td>\n",
       "    </tr>\n",
       "    <tr>\n",
       "      <th>1</th>\n",
       "      <td>0.500000</td>\n",
       "      <td>0.166667</td>\n",
       "      <td>0.160124</td>\n",
       "      <td>0.245309</td>\n",
       "    </tr>\n",
       "    <tr>\n",
       "      <th>2</th>\n",
       "      <td>0.666667</td>\n",
       "      <td>0.500000</td>\n",
       "      <td>0.540978</td>\n",
       "      <td>0.597393</td>\n",
       "    </tr>\n",
       "    <tr>\n",
       "      <th>3</th>\n",
       "      <td>0.500000</td>\n",
       "      <td>0.250000</td>\n",
       "      <td>0.219353</td>\n",
       "      <td>0.264568</td>\n",
       "    </tr>\n",
       "    <tr>\n",
       "      <th>4</th>\n",
       "      <td>0.666667</td>\n",
       "      <td>0.500000</td>\n",
       "      <td>0.423554</td>\n",
       "      <td>0.329897</td>\n",
       "    </tr>\n",
       "  </tbody>\n",
       "</table>\n",
       "</div>"
      ],
      "text/plain": [
       "          0         1         2         3\n",
       "0  0.500000  0.333333  0.293216  0.055761\n",
       "1  0.500000  0.166667  0.160124  0.245309\n",
       "2  0.666667  0.500000  0.540978  0.597393\n",
       "3  0.500000  0.250000  0.219353  0.264568\n",
       "4  0.666667  0.500000  0.423554  0.329897"
      ]
     },
     "execution_count": 14,
     "metadata": {},
     "output_type": "execute_result"
    }
   ],
   "source": [
    "# fitting the scaled data no nead to scale target\n",
    "scaler = MinMaxScaler()\n",
    "X_train_scaled = scaler.fit_transform(X_train)\n",
    "X_validate_scaled = scaler.fit_transform(X_validate)\n",
    "X_train_scaled_df = pd.DataFrame(X_train_scaled)\n",
    "X_train_scaled_df.head()"
   ]
  },
  {
   "cell_type": "code",
   "execution_count": 15,
   "id": "c9f7cbf9",
   "metadata": {
    "scrolled": true
   },
   "outputs": [
    {
     "data": {
      "text/plain": [
       "array([[<AxesSubplot:title={'center':'0'}>,\n",
       "        <AxesSubplot:title={'center':'1'}>],\n",
       "       [<AxesSubplot:title={'center':'2'}>,\n",
       "        <AxesSubplot:title={'center':'3'}>]], dtype=object)"
      ]
     },
     "execution_count": 15,
     "metadata": {},
     "output_type": "execute_result"
    },
    {
     "data": {
      "image/png": "[encoded data removed]",
      "text/plain": [
       "<Figure size 1440x1080 with 4 Axes>"
      ]
     },
     "metadata": {
      "needs_background": "light"
     },
     "output_type": "display_data"
    }
   ],
   "source": [
    "X_train_scaled_df.hist(bins = 20,figsize =  (20,15))"
   ]
  },
  {
   "cell_type": "code",
   "execution_count": 16,
   "id": "43718ee0",
   "metadata": {},
   "outputs": [],
   "source": [
    "def visualize_scaler(scaler, df, columns_to_scale, bins=10):\n",
    "    fig, axs = plt.subplots(len(columns_to_scale), 2, figsize=(16,9))\n",
    "    X_train_scaled = X_train_scaled.copy()\n",
    "    X_train_scaled[columns_to_scale] = scaler.fit_transform(df[columns_to_scale])\n",
    "    for (ax1, ax2), col in zip(axs, columns_to_scale):\n",
    "        ax1.hist(df[col], bins=bins)\n",
    "        ax1.set(title=f'{col} before scaling', xlabel=col, ylabel='count')\n",
    "        ax2.hist(df_scaled[col], bins=bins)\n",
    "        ax2.set(title=f'{col} after scaling with {scaler.__class__.__name__}', xlabel=col, ylabel='count')\n",
    "    plt.tight_layout()\n",
    "#    return fig, axs"
   ]
  },
  {
   "cell_type": "code",
   "execution_count": null,
   "id": "7ccdc261",
   "metadata": {},
   "outputs": [],
   "source": []
  },
  {
   "cell_type": "markdown",
   "id": "5604fe56",
   "metadata": {},
   "source": [
    "### 2. Apply the .inverse_transform method to your scaled data. Is the resulting dataset the exact same as the original data?"
   ]
  },
  {
   "cell_type": "code",
   "execution_count": 17,
   "id": "a7a02612",
   "metadata": {},
   "outputs": [],
   "source": [
    "from sklearn.preprocessing import StandardScaler\n"
   ]
  },
  {
   "cell_type": "code",
   "execution_count": 18,
   "id": "d835e0f8",
   "metadata": {},
   "outputs": [
    {
     "data": {
      "text/plain": [
       "array([[0.5       , 0.33333333, 0.29321625, 0.05576063],\n",
       "       [0.5       , 0.16666667, 0.16012397, 0.24530859],\n",
       "       [0.66666667, 0.5       , 0.54097796, 0.59739283],\n",
       "       ...,\n",
       "       [0.33333333, 0.33333333, 0.22865014, 0.49818932],\n",
       "       [0.66666667, 0.33333333, 0.3161157 , 0.3923603 ],\n",
       "       [0.66666667, 0.41666667, 0.43508953, 0.38929525]])"
      ]
     },
     "execution_count": 18,
     "metadata": {},
     "output_type": "execute_result"
    }
   ],
   "source": [
    "X_train_scaled"
   ]
  },
  {
   "cell_type": "code",
   "execution_count": 19,
   "id": "3eb970bc",
   "metadata": {
    "scrolled": true
   },
   "outputs": [
    {
     "data": {
      "text/html": [
       "<div>\n",
       "<style scoped>\n",
       "    .dataframe tbody tr th:only-of-type {\n",
       "        vertical-align: middle;\n",
       "    }\n",
       "\n",
       "    .dataframe tbody tr th {\n",
       "        vertical-align: top;\n",
       "    }\n",
       "\n",
       "    .dataframe thead th {\n",
       "        text-align: right;\n",
       "    }\n",
       "</style>\n",
       "<table border=\"1\" class=\"dataframe\">\n",
       "  <thead>\n",
       "    <tr style=\"text-align: right;\">\n",
       "      <th></th>\n",
       "      <th>0</th>\n",
       "      <th>1</th>\n",
       "      <th>2</th>\n",
       "      <th>3</th>\n",
       "    </tr>\n",
       "  </thead>\n",
       "  <tbody>\n",
       "    <tr>\n",
       "      <th>0</th>\n",
       "      <td>3.0</td>\n",
       "      <td>2.0</td>\n",
       "      <td>1855.0</td>\n",
       "      <td>67857.0</td>\n",
       "    </tr>\n",
       "    <tr>\n",
       "      <th>1</th>\n",
       "      <td>3.0</td>\n",
       "      <td>1.0</td>\n",
       "      <td>1082.0</td>\n",
       "      <td>295125.0</td>\n",
       "    </tr>\n",
       "    <tr>\n",
       "      <th>2</th>\n",
       "      <td>4.0</td>\n",
       "      <td>3.0</td>\n",
       "      <td>3294.0</td>\n",
       "      <td>717274.0</td>\n",
       "    </tr>\n",
       "    <tr>\n",
       "      <th>3</th>\n",
       "      <td>3.0</td>\n",
       "      <td>1.5</td>\n",
       "      <td>1426.0</td>\n",
       "      <td>318217.0</td>\n",
       "    </tr>\n",
       "    <tr>\n",
       "      <th>4</th>\n",
       "      <td>4.0</td>\n",
       "      <td>3.0</td>\n",
       "      <td>2612.0</td>\n",
       "      <td>396546.0</td>\n",
       "    </tr>\n",
       "    <tr>\n",
       "      <th>...</th>\n",
       "      <td>...</td>\n",
       "      <td>...</td>\n",
       "      <td>...</td>\n",
       "      <td>...</td>\n",
       "    </tr>\n",
       "    <tr>\n",
       "      <th>27082</th>\n",
       "      <td>4.0</td>\n",
       "      <td>3.0</td>\n",
       "      <td>2045.0</td>\n",
       "      <td>72435.0</td>\n",
       "    </tr>\n",
       "    <tr>\n",
       "      <th>27083</th>\n",
       "      <td>2.0</td>\n",
       "      <td>2.0</td>\n",
       "      <td>1068.0</td>\n",
       "      <td>184066.0</td>\n",
       "    </tr>\n",
       "    <tr>\n",
       "      <th>27084</th>\n",
       "      <td>2.0</td>\n",
       "      <td>2.0</td>\n",
       "      <td>1480.0</td>\n",
       "      <td>598329.0</td>\n",
       "    </tr>\n",
       "    <tr>\n",
       "      <th>27085</th>\n",
       "      <td>4.0</td>\n",
       "      <td>2.0</td>\n",
       "      <td>1988.0</td>\n",
       "      <td>471440.0</td>\n",
       "    </tr>\n",
       "    <tr>\n",
       "      <th>27086</th>\n",
       "      <td>4.0</td>\n",
       "      <td>2.5</td>\n",
       "      <td>2679.0</td>\n",
       "      <td>467765.0</td>\n",
       "    </tr>\n",
       "  </tbody>\n",
       "</table>\n",
       "<p>27087 rows × 4 columns</p>\n",
       "</div>"
      ],
      "text/plain": [
       "         0    1       2         3\n",
       "0      3.0  2.0  1855.0   67857.0\n",
       "1      3.0  1.0  1082.0  295125.0\n",
       "2      4.0  3.0  3294.0  717274.0\n",
       "3      3.0  1.5  1426.0  318217.0\n",
       "4      4.0  3.0  2612.0  396546.0\n",
       "...    ...  ...     ...       ...\n",
       "27082  4.0  3.0  2045.0   72435.0\n",
       "27083  2.0  2.0  1068.0  184066.0\n",
       "27084  2.0  2.0  1480.0  598329.0\n",
       "27085  4.0  2.0  1988.0  471440.0\n",
       "27086  4.0  2.5  2679.0  467765.0\n",
       "\n",
       "[27087 rows x 4 columns]"
      ]
     },
     "execution_count": 19,
     "metadata": {},
     "output_type": "execute_result"
    }
   ],
   "source": [
    "X_train_inverse = pd.DataFrame(scaler.inverse_transform(X_train_scaled))\n",
    "X_train_inverse"
   ]
  },
  {
   "cell_type": "code",
   "execution_count": 20,
   "id": "0cbda944",
   "metadata": {},
   "outputs": [
    {
     "data": {
      "text/html": [
       "<div>\n",
       "<style scoped>\n",
       "    .dataframe tbody tr th:only-of-type {\n",
       "        vertical-align: middle;\n",
       "    }\n",
       "\n",
       "    .dataframe tbody tr th {\n",
       "        vertical-align: top;\n",
       "    }\n",
       "\n",
       "    .dataframe thead th {\n",
       "        text-align: right;\n",
       "    }\n",
       "</style>\n",
       "<table border=\"1\" class=\"dataframe\">\n",
       "  <thead>\n",
       "    <tr style=\"text-align: right;\">\n",
       "      <th></th>\n",
       "      <th>0</th>\n",
       "      <th>1</th>\n",
       "      <th>2</th>\n",
       "      <th>3</th>\n",
       "    </tr>\n",
       "  </thead>\n",
       "  <tbody>\n",
       "    <tr>\n",
       "      <th>0</th>\n",
       "      <td>-0.273762</td>\n",
       "      <td>-0.203891</td>\n",
       "      <td>0.104992</td>\n",
       "      <td>-1.227775</td>\n",
       "    </tr>\n",
       "    <tr>\n",
       "      <th>1</th>\n",
       "      <td>-0.273762</td>\n",
       "      <td>-1.406854</td>\n",
       "      <td>-0.946082</td>\n",
       "      <td>-0.368499</td>\n",
       "    </tr>\n",
       "    <tr>\n",
       "      <th>2</th>\n",
       "      <td>0.863743</td>\n",
       "      <td>0.999072</td>\n",
       "      <td>2.061647</td>\n",
       "      <td>1.227601</td>\n",
       "    </tr>\n",
       "    <tr>\n",
       "      <th>3</th>\n",
       "      <td>-0.273762</td>\n",
       "      <td>-0.805373</td>\n",
       "      <td>-0.478334</td>\n",
       "      <td>-0.281191</td>\n",
       "    </tr>\n",
       "    <tr>\n",
       "      <th>4</th>\n",
       "      <td>0.863743</td>\n",
       "      <td>0.999072</td>\n",
       "      <td>1.134309</td>\n",
       "      <td>0.014962</td>\n",
       "    </tr>\n",
       "  </tbody>\n",
       "</table>\n",
       "</div>"
      ],
      "text/plain": [
       "          0         1         2         3\n",
       "0 -0.273762 -0.203891  0.104992 -1.227775\n",
       "1 -0.273762 -1.406854 -0.946082 -0.368499\n",
       "2  0.863743  0.999072  2.061647  1.227601\n",
       "3 -0.273762 -0.805373 -0.478334 -0.281191\n",
       "4  0.863743  0.999072  1.134309  0.014962"
      ]
     },
     "execution_count": 20,
     "metadata": {},
     "output_type": "execute_result"
    }
   ],
   "source": [
    "# scaler = MinMaxScaler()\n",
    "# X_train_scaled = scaler.fit_transform(X_train)\n",
    "# X_validate_scaled = scaler.fit_transform(X_validate)\n",
    "\n",
    "scaler2 = StandardScaler()\n",
    "X_train_standard_scale = scaler2.fit_transform(X_train)\n",
    "X_validate_standard_scale = scaler2.fit_transform(X_validate)\n",
    "X_train_s_scaled_df = pd.DataFrame(X_train_standard_scale)\n",
    "X_train_s_scaled_df.head()"
   ]
  },
  {
   "cell_type": "code",
   "execution_count": 21,
   "id": "c28e79ad",
   "metadata": {},
   "outputs": [
    {
     "data": {
      "text/plain": [
       "array([[<AxesSubplot:title={'center':'0'}>,\n",
       "        <AxesSubplot:title={'center':'1'}>],\n",
       "       [<AxesSubplot:title={'center':'2'}>,\n",
       "        <AxesSubplot:title={'center':'3'}>]], dtype=object)"
      ]
     },
     "execution_count": 21,
     "metadata": {},
     "output_type": "execute_result"
    },
    {
     "data": {
      "image/png": "[encoded data removed]",
      "text/plain": [
       "<Figure size 1440x1080 with 4 Axes>"
      ]
     },
     "metadata": {
      "needs_background": "light"
     },
     "output_type": "display_data"
    }
   ],
   "source": [
    "X_train_s_scaled_df.hist(bins = 20,figsize =  (20,15))"
   ]
  },
  {
   "cell_type": "code",
   "execution_count": null,
   "id": "cd0a1881",
   "metadata": {},
   "outputs": [],
   "source": [
    "\n"
   ]
  },
  {
   "cell_type": "code",
   "execution_count": 22,
   "id": "30243c5c",
   "metadata": {
    "scrolled": true
   },
   "outputs": [
    {
     "data": {
      "text/plain": [
       "array([[-0.27376227, -0.20389128,  0.10499162, -1.22777536],\n",
       "       [-0.27376227, -1.40685429, -0.94608169, -0.36849944],\n",
       "       [ 0.86374328,  0.99907172,  2.06164683,  1.22760063],\n",
       "       ...,\n",
       "       [-1.41126782, -0.20389128, -0.40490811,  0.77788235],\n",
       "       [ 0.86374328, -0.20389128,  0.28583605,  0.29812865],\n",
       "       [ 0.86374328,  0.39759022,  1.22541128,  0.28423387]])"
      ]
     },
     "execution_count": 22,
     "metadata": {},
     "output_type": "execute_result"
    }
   ],
   "source": [
    "X_train_standard_scale"
   ]
  },
  {
   "cell_type": "code",
   "execution_count": 23,
   "id": "1a514b0f",
   "metadata": {
    "scrolled": false
   },
   "outputs": [
    {
     "data": {
      "text/html": [
       "<div>\n",
       "<style scoped>\n",
       "    .dataframe tbody tr th:only-of-type {\n",
       "        vertical-align: middle;\n",
       "    }\n",
       "\n",
       "    .dataframe tbody tr th {\n",
       "        vertical-align: top;\n",
       "    }\n",
       "\n",
       "    .dataframe thead th {\n",
       "        text-align: right;\n",
       "    }\n",
       "</style>\n",
       "<table border=\"1\" class=\"dataframe\">\n",
       "  <thead>\n",
       "    <tr style=\"text-align: right;\">\n",
       "      <th></th>\n",
       "      <th>0</th>\n",
       "      <th>1</th>\n",
       "      <th>2</th>\n",
       "      <th>3</th>\n",
       "    </tr>\n",
       "  </thead>\n",
       "  <tbody>\n",
       "    <tr>\n",
       "      <th>0</th>\n",
       "      <td>0.0</td>\n",
       "      <td>0.0</td>\n",
       "      <td>0.278204</td>\n",
       "      <td>-0.766979</td>\n",
       "    </tr>\n",
       "    <tr>\n",
       "      <th>1</th>\n",
       "      <td>0.0</td>\n",
       "      <td>-1.0</td>\n",
       "      <td>-0.568456</td>\n",
       "      <td>-0.145272</td>\n",
       "    </tr>\n",
       "    <tr>\n",
       "      <th>2</th>\n",
       "      <td>1.0</td>\n",
       "      <td>1.0</td>\n",
       "      <td>1.854326</td>\n",
       "      <td>1.009544</td>\n",
       "    </tr>\n",
       "    <tr>\n",
       "      <th>3</th>\n",
       "      <td>0.0</td>\n",
       "      <td>-0.5</td>\n",
       "      <td>-0.191676</td>\n",
       "      <td>-0.082103</td>\n",
       "    </tr>\n",
       "    <tr>\n",
       "      <th>4</th>\n",
       "      <td>1.0</td>\n",
       "      <td>1.0</td>\n",
       "      <td>1.107338</td>\n",
       "      <td>0.132172</td>\n",
       "    </tr>\n",
       "  </tbody>\n",
       "</table>\n",
       "</div>"
      ],
      "text/plain": [
       "     0    1         2         3\n",
       "0  0.0  0.0  0.278204 -0.766979\n",
       "1  0.0 -1.0 -0.568456 -0.145272\n",
       "2  1.0  1.0  1.854326  1.009544\n",
       "3  0.0 -0.5 -0.191676 -0.082103\n",
       "4  1.0  1.0  1.107338  0.132172"
      ]
     },
     "execution_count": 23,
     "metadata": {},
     "output_type": "execute_result"
    }
   ],
   "source": [
    "\n",
    "scaler3 = RobustScaler()\n",
    "X_train_robust = scaler3.fit_transform(X_train)\n",
    "X_validate_robust = scaler3.fit_transform(X_validate)\n",
    "X_train_robust_df = pd.DataFrame(X_train_robust)\n",
    "X_train_robust_df.head()"
   ]
  },
  {
   "cell_type": "code",
   "execution_count": 24,
   "id": "ce550f9d",
   "metadata": {},
   "outputs": [
    {
     "data": {
      "text/plain": [
       "array([[<AxesSubplot:title={'center':'0'}>,\n",
       "        <AxesSubplot:title={'center':'1'}>],\n",
       "       [<AxesSubplot:title={'center':'2'}>,\n",
       "        <AxesSubplot:title={'center':'3'}>]], dtype=object)"
      ]
     },
     "execution_count": 24,
     "metadata": {},
     "output_type": "execute_result"
    },
    {
     "data": {
      "image/png": "[encoded data removed]",
      "text/plain": [
       "<Figure size 1440x1080 with 4 Axes>"
      ]
     },
     "metadata": {
      "needs_background": "light"
     },
     "output_type": "display_data"
    }
   ],
   "source": [
    "X_train_robust_df.hist(bins = 20,figsize =  (20,15))"
   ]
  },
  {
   "cell_type": "markdown",
   "id": "f6a7c9f5",
   "metadata": {},
   "source": [
    "### 3. Read the documentation for sklearn's QuantileTransformer. Use normal for the output_distribution and apply this scaler to your data. Visualize the result of your data scaling."
   ]
  },
  {
   "cell_type": "code",
   "execution_count": 25,
   "id": "bb9dd806",
   "metadata": {},
   "outputs": [],
   "source": [
    "from sklearn.preprocessing import QuantileTransformer\n",
    "from matplotlib import pyplot\n"
   ]
  },
  {
   "cell_type": "code",
   "execution_count": 26,
   "id": "86a1f300",
   "metadata": {},
   "outputs": [
    {
     "data": {
      "image/png": "[encoded data removed]",
      "text/plain": [
       "<Figure size 432x288 with 1 Axes>"
      ]
     },
     "metadata": {
      "needs_background": "light"
     },
     "output_type": "display_data"
    }
   ],
   "source": [
    "# quantile = QuantileTransformer(output_distribution='normal')\n",
    "# data_trans = quantile.fit_transform(scaler)\n",
    "# # histogram of the transformed data\n",
    "# pyplot.hist(data_trans, bins=25)\n",
    "# pyplot.show()\n",
    "quintile_transformer = QuantileTransformer(output_distribution='normal')\n",
    "X_train_Quant = quintile_transformer.fit_transform(X_train_robust_df)\n",
    "# # histogram of the transformed data\n",
    "plt.hist(X_train_Quant, bins=50)\n",
    "plt.show()"
   ]
  },
  {
   "cell_type": "markdown",
   "id": "59b16c96",
   "metadata": {},
   "source": [
    "Exercise 4: Use the QuantileTransformer, but omit the output_distribution argument. Visualize your results. What do you notice?\n"
   ]
  },
  {
   "cell_type": "code",
   "execution_count": 33,
   "id": "c0532ddf",
   "metadata": {},
   "outputs": [
    {
     "data": {
      "image/png": "[encoded data removed]",
      "text/plain": [
       "<Figure size 1080x216 with 2 Axes>"
      ]
     },
     "metadata": {
      "needs_background": "light"
     },
     "output_type": "display_data"
    },
    {
     "data": {
      "image/png": "[encoded data removed]",
      "text/plain": [
       "<Figure size 1080x216 with 2 Axes>"
      ]
     },
     "metadata": {
      "needs_background": "light"
     },
     "output_type": "display_data"
    },
    {
     "data": {
      "image/png": "[encoded data removed]",
      "text/plain": [
       "<Figure size 1080x216 with 2 Axes>"
      ]
     },
     "metadata": {
      "needs_background": "light"
     },
     "output_type": "display_data"
    },
    {
     "data": {
      "image/png": "[encoded data removed]",
      "text/plain": [
       "<Figure size 1080x216 with 2 Axes>"
      ]
     },
     "metadata": {
      "needs_background": "light"
     },
     "output_type": "display_data"
    }
   ],
   "source": [
    "\n",
    "train1 = train[[\"bedrooms\",\"bathrooms\",\"squarefeet\",\"total_taxes\"]]\n",
    "\n",
    "for column in train1.columns:\n",
    "    robust_scaled = quintile_transformer.fit_transform(np.array(train1[column]).reshape(-1,1))\n",
    "    plt.figure(figsize=(15, 3))\n",
    "    plt.subplot(121)\n",
    "    plt.hist(train[column], ec='black', bins =25)\n",
    "    plt.title(f'{column} Original')\n",
    "    plt.subplot(122)\n",
    "    plt.hist(robust_scaled, ec='black', bins =25)\n",
    "    plt.title(f'{column} Normal Quantile Transformer')\n",
    "\n"
   ]
  },
  {
   "cell_type": "code",
   "execution_count": 36,
   "id": "7e881d3e",
   "metadata": {},
   "outputs": [
    {
     "data": {
      "image/png": "[encoded data removed]",
      "text/plain": [
       "<Figure size 1080x216 with 2 Axes>"
      ]
     },
     "metadata": {
      "needs_background": "light"
     },
     "output_type": "display_data"
    },
    {
     "data": {
      "image/png": "[encoded data removed]",
      "text/plain": [
       "<Figure size 1080x216 with 2 Axes>"
      ]
     },
     "metadata": {
      "needs_background": "light"
     },
     "output_type": "display_data"
    },
    {
     "data": {
      "image/png": "[encoded data removed]",
      "text/plain": [
       "<Figure size 1080x216 with 2 Axes>"
      ]
     },
     "metadata": {
      "needs_background": "light"
     },
     "output_type": "display_data"
    },
    {
     "data": {
      "image/png": "[encoded data removed]",
      "text/plain": [
       "<Figure size 1080x216 with 2 Axes>"
      ]
     },
     "metadata": {
      "needs_background": "light"
     },
     "output_type": "display_data"
    }
   ],
   "source": [
    "train1 = train[[\"bedrooms\",\"bathrooms\",\"squarefeet\",\"total_taxes\"]]\n",
    "quant_trans = QuantileTransformer()\n",
    "\n",
    "for column in train1.columns:\n",
    "    robust_scaled = quant_trans.fit_transform(np.array(train1[column]).reshape(-1,1))\n",
    "    plt.figure(figsize=(15, 3))\n",
    "    plt.subplot(121)\n",
    "    plt.hist(train[column], ec='black', bins =25)\n",
    "    plt.title(f'{column} Original')\n",
    "    plt.subplot(122)\n",
    "    plt.hist(robust_scaled, ec='black', bins =25)\n",
    "    plt.title(f'{column} uniform with Quantile Transformer')\n"
   ]
  },
  {
   "cell_type": "markdown",
   "id": "d41ff06b",
   "metadata": {},
   "source": [
    "Exercise 5: Based on the work you've done, choose a scaling method for your dataset. Write a function within your prepare.py that accepts as input the train, validate, and test data splits, and returns the scaled versions of each. Be sure to only learn the parameters for scaling from your training data!"
   ]
  },
  {
   "cell_type": "code",
   "execution_count": 37,
   "id": "82d980a1",
   "metadata": {},
   "outputs": [],
   "source": [
    "#this function takes the clean and split data, makes copies, uses the minmax scaler to scale the data for modeling purposes. \n",
    "def scaling_zillow(train, validate, test, columns_to_scale):\n",
    "\n",
    "    '''\n",
    "    This function takes in a data set that is split , makes a copy and uses the min max scaler to scale all three data sets. additionally it adds the columns names on the scaled data and returns trainedscaled data, validate scaled data and test scale\n",
    "    '''\n",
    "    #copying the dataframes for distinguishing between scaled and unscaled data\n",
    "    train_scaled = train.copy()\n",
    "    validate_scaled = validate.copy()\n",
    "    test_scaled = test.copy()\n",
    "    # defining the minmax scaler \n",
    "    scaler = MinMaxScaler()\n",
    "    \n",
    "    #scaling the trained data and giving the scaled data column names \n",
    "    train_scaled[columns_to_scale] = pd.DataFrame(scaler.fit_transform(train[columns_to_scale]), \n",
    "                                                  columns=train[columns_to_scale].columns.values).set_index([train.index.values])\n",
    "    \n",
    "    #scaling the validate data and giving the scaled data column names \n",
    "    validate_scaled[columns_to_scale] = pd.DataFrame(scaler.transform(validate[columns_to_scale]),\n",
    "                                                  columns=validate[columns_to_scale].columns.values).set_index([validate.index.values])\n",
    "    \n",
    "    \n",
    "    #scaling the test data and giving the scaled data column names \n",
    "    test_scaled[columns_to_scale] = pd.DataFrame(scaler.transform(test[columns_to_scale]),\n",
    "                                                 columns=test[columns_to_scale].columns.values).set_index([test.index.values])\n",
    "\n",
    "    #returns three dataframes; train_scaled, validate_scaled, test_scaled\n",
    "    return train_scaled, validate_scaled, test_scaled\n"
   ]
  },
  {
   "cell_type": "code",
   "execution_count": null,
   "id": "24bebcec",
   "metadata": {},
   "outputs": [],
   "source": []
  }
 ],
 "metadata": {
  "kernelspec": {
   "display_name": "Python 3 (ipykernel)",
   "language": "python",
   "name": "python3"
  },
  "language_info": {
   "codemirror_mode": {
    "name": "ipython",
    "version": 3
   },
   "file_extension": ".py",
   "mimetype": "text/x-python",
   "name": "python",
   "nbconvert_exporter": "python",
   "pygments_lexer": "ipython3",
   "version": "3.9.7"
  }
 },
 "nbformat": 4,
 "nbformat_minor": 5
}
